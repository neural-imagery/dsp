{
 "cells": [
  {
   "cell_type": "code",
   "execution_count": 1,
   "id": "21aeb557",
   "metadata": {},
   "outputs": [],
   "source": [
    "import os\n",
    "import numpy as np\n",
    "import matplotlib.pyplot as plt\n",
    "\n",
    "import mne\n",
    "import mne_nirs\n",
    "\n",
    "from mne_nirs.experimental_design import make_first_level_design_matrix\n",
    "from mne_nirs.statistics import run_glm\n",
    "from mne_nirs.channels import (get_long_channels,\n",
    "                               get_short_channels,\n",
    "                               picks_pair_to_idx)\n",
    "\n",
    "from nilearn.plotting import plot_design_matrix"
   ]
  },
  {
   "cell_type": "code",
   "execution_count": 2,
   "id": "876b9aed",
   "metadata": {},
   "outputs": [
    {
     "name": "stdout",
     "output_type": "stream",
     "text": [
      "Loading /Users/bryan/mne_data/MNE-fNIRS-motor-data/Participant-1\n",
      "Reading 0 ... 23238  =      0.000 ...  2974.464 secs...\n"
     ]
    },
    {
     "data": {
      "text/html": [
       "<table class=\"table table-hover table-striped table-sm table-responsive small\">\n",
       "    <tr>\n",
       "        <th>Measurement date</th>\n",
       "        \n",
       "        <td>November 02, 2019  13:16:16 GMT</td>\n",
       "        \n",
       "    </tr>\n",
       "    <tr>\n",
       "        <th>Experimenter</th>\n",
       "        \n",
       "        <td>Unknown</td>\n",
       "        \n",
       "    </tr>\n",
       "        <th>Participant</th>\n",
       "        \n",
       "            \n",
       "            <td>P1</td>\n",
       "            \n",
       "        \n",
       "    </tr>\n",
       "    <tr>\n",
       "        <th>Digitized points</th>\n",
       "        \n",
       "        <td>31 points</td>\n",
       "        \n",
       "    </tr>\n",
       "    <tr>\n",
       "        <th>Good channels</th>\n",
       "        <td>56 fNIRS (CW amplitude)</td>\n",
       "    </tr>\n",
       "    <tr>\n",
       "        <th>Bad channels</th>\n",
       "        <td>None</td>\n",
       "    </tr>\n",
       "    <tr>\n",
       "        <th>EOG channels</th>\n",
       "        <td>Not available</td>\n",
       "    </tr>\n",
       "    <tr>\n",
       "        <th>ECG channels</th>\n",
       "        <td>Not available</td>\n",
       "    \n",
       "    <tr>\n",
       "        <th>Sampling frequency</th>\n",
       "        <td>0.70 Hz</td>\n",
       "    </tr>\n",
       "    \n",
       "    \n",
       "    <tr>\n",
       "        <th>Highpass</th>\n",
       "        <td>0.00 Hz</td>\n",
       "    </tr>\n",
       "    \n",
       "    \n",
       "    <tr>\n",
       "        <th>Lowpass</th>\n",
       "        <td>0.35 Hz</td>\n",
       "    </tr>\n",
       "    \n",
       "    \n",
       "    \n",
       "    <tr>\n",
       "        <th>Filenames</th>\n",
       "        <td>Participant-1</td>\n",
       "    </tr>\n",
       "    \n",
       "    <tr>\n",
       "        <th>Duration</th>\n",
       "        <td>00:49:33 (HH:MM:SS)</td>\n",
       "    </tr>\n",
       "</table>"
      ],
      "text/plain": [
       "<RawNIRX | Participant-1, 56 x 2082 (2972.9 s), ~981 kB, data loaded>"
      ]
     },
     "execution_count": 2,
     "metadata": {},
     "output_type": "execute_result"
    }
   ],
   "source": [
    "fnirs_data_folder = mne.datasets.fnirs_motor.data_path()\n",
    "fnirs_raw_dir = os.path.join(fnirs_data_folder, 'Participant-1')\n",
    "raw_intensity = mne.io.read_raw_nirx(fnirs_raw_dir).load_data()\n",
    "raw_intensity.resample(0.7)"
   ]
  },
  {
   "cell_type": "code",
   "execution_count": 3,
   "id": "f9fc2dd2",
   "metadata": {},
   "outputs": [
    {
     "data": {
      "text/plain": [
       "<Annotations | 92 segments: 1.0 (30), 15.0 (2), 2.0 (30), 3.0 (30)>"
      ]
     },
     "execution_count": 3,
     "metadata": {},
     "output_type": "execute_result"
    }
   ],
   "source": [
    "raw_intensity.annotations"
   ]
  },
  {
   "cell_type": "code",
   "execution_count": 4,
   "id": "debe6463",
   "metadata": {},
   "outputs": [
    {
     "data": {
      "text/plain": [
       "<Annotations | 90 segments: Control (30), Tapping_Left (30), Tapping_Right ...>"
      ]
     },
     "execution_count": 4,
     "metadata": {},
     "output_type": "execute_result"
    }
   ],
   "source": [
    "raw_intensity.annotations.rename({'1.0': 'Control',\n",
    "                                  '2.0': 'Tapping_Left',\n",
    "                                  '3.0': 'Tapping_Right'})\n",
    "raw_intensity.annotations.delete(raw_intensity.annotations.description == '15.0')\n",
    "raw_intensity.annotations.set_durations(5)"
   ]
  },
  {
   "cell_type": "code",
   "execution_count": 5,
   "id": "8b3bfe6c",
   "metadata": {},
   "outputs": [
    {
     "data": {
      "text/plain": [
       "<Annotations | 90 segments: Control (30), Tapping_Left (30), Tapping_Right ...>"
      ]
     },
     "execution_count": 5,
     "metadata": {},
     "output_type": "execute_result"
    }
   ],
   "source": [
    "raw_intensity.annotations"
   ]
  },
  {
   "cell_type": "code",
   "execution_count": 6,
   "id": "0f65d20d",
   "metadata": {},
   "outputs": [],
   "source": [
    "raw_od = mne.preprocessing.nirs.optical_density(raw_intensity)\n",
    "raw_haemo = mne.preprocessing.nirs.beer_lambert_law(raw_od, ppf=0.1)"
   ]
  },
  {
   "cell_type": "code",
   "execution_count": 7,
   "id": "2472ad52",
   "metadata": {},
   "outputs": [],
   "source": [
    "short_chs = get_short_channels(raw_haemo)"
   ]
  },
  {
   "cell_type": "code",
   "execution_count": 8,
   "id": "39ba239a",
   "metadata": {},
   "outputs": [
    {
     "data": {
      "text/html": [
       "<table class=\"table table-hover table-striped table-sm table-responsive small\">\n",
       "    <tr>\n",
       "        <th>Measurement date</th>\n",
       "        \n",
       "        <td>November 02, 2019  13:16:16 GMT</td>\n",
       "        \n",
       "    </tr>\n",
       "    <tr>\n",
       "        <th>Experimenter</th>\n",
       "        \n",
       "        <td>Unknown</td>\n",
       "        \n",
       "    </tr>\n",
       "        <th>Participant</th>\n",
       "        \n",
       "            \n",
       "            <td>P1</td>\n",
       "            \n",
       "        \n",
       "    </tr>\n",
       "    <tr>\n",
       "        <th>Digitized points</th>\n",
       "        \n",
       "        <td>31 points</td>\n",
       "        \n",
       "    </tr>\n",
       "    <tr>\n",
       "        <th>Good channels</th>\n",
       "        <td>8 Oxyhemoglobin, 8 Deoxyhemoglobin</td>\n",
       "    </tr>\n",
       "    <tr>\n",
       "        <th>Bad channels</th>\n",
       "        <td>None</td>\n",
       "    </tr>\n",
       "    <tr>\n",
       "        <th>EOG channels</th>\n",
       "        <td>Not available</td>\n",
       "    </tr>\n",
       "    <tr>\n",
       "        <th>ECG channels</th>\n",
       "        <td>Not available</td>\n",
       "    \n",
       "    <tr>\n",
       "        <th>Sampling frequency</th>\n",
       "        <td>0.70 Hz</td>\n",
       "    </tr>\n",
       "    \n",
       "    \n",
       "    <tr>\n",
       "        <th>Highpass</th>\n",
       "        <td>0.00 Hz</td>\n",
       "    </tr>\n",
       "    \n",
       "    \n",
       "    <tr>\n",
       "        <th>Lowpass</th>\n",
       "        <td>0.35 Hz</td>\n",
       "    </tr>\n",
       "    \n",
       "    \n",
       "    \n",
       "    <tr>\n",
       "        <th>Filenames</th>\n",
       "        <td>Participant-1</td>\n",
       "    </tr>\n",
       "    \n",
       "    <tr>\n",
       "        <th>Duration</th>\n",
       "        <td>00:49:33 (HH:MM:SS)</td>\n",
       "    </tr>\n",
       "</table>"
      ],
      "text/plain": [
       "<RawNIRX | Participant-1, 16 x 2082 (2972.9 s), ~294 kB, data loaded>"
      ]
     },
     "execution_count": 8,
     "metadata": {},
     "output_type": "execute_result"
    }
   ],
   "source": [
    "short_chs"
   ]
  },
  {
   "cell_type": "code",
   "execution_count": 9,
   "id": "1192d59d",
   "metadata": {},
   "outputs": [],
   "source": [
    "raw_haemo = get_long_channels(raw_haemo)"
   ]
  },
  {
   "cell_type": "code",
   "execution_count": 10,
   "id": "11d85e7a",
   "metadata": {},
   "outputs": [
    {
     "data": {
      "text/html": [
       "<table class=\"table table-hover table-striped table-sm table-responsive small\">\n",
       "    <tr>\n",
       "        <th>Measurement date</th>\n",
       "        \n",
       "        <td>November 02, 2019  13:16:16 GMT</td>\n",
       "        \n",
       "    </tr>\n",
       "    <tr>\n",
       "        <th>Experimenter</th>\n",
       "        \n",
       "        <td>Unknown</td>\n",
       "        \n",
       "    </tr>\n",
       "        <th>Participant</th>\n",
       "        \n",
       "            \n",
       "            <td>P1</td>\n",
       "            \n",
       "        \n",
       "    </tr>\n",
       "    <tr>\n",
       "        <th>Digitized points</th>\n",
       "        \n",
       "        <td>31 points</td>\n",
       "        \n",
       "    </tr>\n",
       "    <tr>\n",
       "        <th>Good channels</th>\n",
       "        <td>20 Oxyhemoglobin, 20 Deoxyhemoglobin</td>\n",
       "    </tr>\n",
       "    <tr>\n",
       "        <th>Bad channels</th>\n",
       "        <td>None</td>\n",
       "    </tr>\n",
       "    <tr>\n",
       "        <th>EOG channels</th>\n",
       "        <td>Not available</td>\n",
       "    </tr>\n",
       "    <tr>\n",
       "        <th>ECG channels</th>\n",
       "        <td>Not available</td>\n",
       "    \n",
       "    <tr>\n",
       "        <th>Sampling frequency</th>\n",
       "        <td>0.70 Hz</td>\n",
       "    </tr>\n",
       "    \n",
       "    \n",
       "    <tr>\n",
       "        <th>Highpass</th>\n",
       "        <td>0.00 Hz</td>\n",
       "    </tr>\n",
       "    \n",
       "    \n",
       "    <tr>\n",
       "        <th>Lowpass</th>\n",
       "        <td>0.35 Hz</td>\n",
       "    </tr>\n",
       "    \n",
       "    \n",
       "    \n",
       "    <tr>\n",
       "        <th>Filenames</th>\n",
       "        <td>Participant-1</td>\n",
       "    </tr>\n",
       "    \n",
       "    <tr>\n",
       "        <th>Duration</th>\n",
       "        <td>00:49:33 (HH:MM:SS)</td>\n",
       "    </tr>\n",
       "</table>"
      ],
      "text/plain": [
       "<RawNIRX | Participant-1, 40 x 2082 (2972.9 s), ~706 kB, data loaded>"
      ]
     },
     "execution_count": 10,
     "metadata": {},
     "output_type": "execute_result"
    }
   ],
   "source": [
    "raw_haemo"
   ]
  },
  {
   "cell_type": "code",
   "execution_count": 12,
   "id": "721b7d65",
   "metadata": {},
   "outputs": [],
   "source": [
    "from mne.preprocessing.nirs import source_detector_distances\n"
   ]
  },
  {
   "cell_type": "code",
   "execution_count": 13,
   "id": "10cb5483",
   "metadata": {},
   "outputs": [],
   "source": [
    "dists = source_detector_distances(raw_haemo.info)"
   ]
  },
  {
   "cell_type": "code",
   "execution_count": 14,
   "id": "f471f2ad",
   "metadata": {},
   "outputs": [
    {
     "data": {
      "text/plain": [
       "array([0.0392934 , 0.0392934 , 0.03890886, 0.03890886, 0.04089411,\n",
       "       0.04089411, 0.03717697, 0.03717697, 0.03760152, 0.03760152,\n",
       "       0.03703957, 0.03703957, 0.04032053, 0.04032053, 0.03666452,\n",
       "       0.03666452, 0.04068731, 0.04068731, 0.03402734, 0.03402734,\n",
       "       0.03902399, 0.03902399, 0.0392201 , 0.0392201 , 0.04089535,\n",
       "       0.04089535, 0.03696921, 0.03696921, 0.03707284, 0.03707284,\n",
       "       0.03696964, 0.03696964, 0.04042705, 0.04042705, 0.03721506,\n",
       "       0.03721506, 0.04066576, 0.04066576, 0.03344405, 0.03344405])"
      ]
     },
     "execution_count": 14,
     "metadata": {},
     "output_type": "execute_result"
    }
   ],
   "source": [
    "dists"
   ]
  },
  {
   "cell_type": "code",
   "execution_count": 16,
   "id": "4730766e",
   "metadata": {},
   "outputs": [
    {
     "name": "stdout",
     "output_type": "stream",
     "text": [
      "Loading /Users/bryan/work/dsp/paul2.snirf\n",
      "Reading 0 ... 4840  =      0.000 ...   484.000 secs...\n"
     ]
    }
   ],
   "source": [
    "paul_raw_intensity = mne.io.read_raw_snirf(\"./paul2.snirf\")\n",
    "paul_raw_od = mne.preprocessing.nirs.optical_density(paul_raw_intensity)\n",
    "paul_raw_haemo = mne.preprocessing.nirs.beer_lambert_law(paul_raw_od, ppf=0.1)"
   ]
  },
  {
   "cell_type": "code",
   "execution_count": 17,
   "id": "9b989548",
   "metadata": {},
   "outputs": [],
   "source": [
    "paul_dists = source_detector_distances(paul_raw_haemo.info)"
   ]
  },
  {
   "cell_type": "code",
   "execution_count": 18,
   "id": "0ee41901",
   "metadata": {},
   "outputs": [
    {
     "data": {
      "text/plain": [
       "array([0.04340541, 0.0338746 , 0.03665137, 0.05440692, 0.02883645,\n",
       "       0.03466972, 0.05034476, 0.04085377, 0.04342203, 0.0346696 ,\n",
       "       0.03668378, 0.05444247, 0.0293802 , 0.03500686, 0.05091747,\n",
       "       0.04132342, 0.04340541, 0.0338746 , 0.03665137, 0.05440692,\n",
       "       0.02883645, 0.03466972, 0.05034476, 0.04085377, 0.04342203,\n",
       "       0.0346696 , 0.03668378, 0.05444247, 0.0293802 , 0.03500686,\n",
       "       0.05091747, 0.04132342])"
      ]
     },
     "execution_count": 18,
     "metadata": {},
     "output_type": "execute_result"
    }
   ],
   "source": [
    "paul_dists\n"
   ]
  },
  {
   "cell_type": "code",
   "execution_count": 24,
   "id": "6d5ab0f6",
   "metadata": {},
   "outputs": [
    {
     "data": {
      "text/plain": [
       "[<matplotlib.lines.Line2D at 0x2ac0b2640>]"
      ]
     },
     "execution_count": 24,
     "metadata": {},
     "output_type": "execute_result"
    },
    {
     "data": {
      "image/png": "[encoded data removed]",
      "text/plain": [
       "<Figure size 432x288 with 1 Axes>"
      ]
     },
     "metadata": {
      "needs_background": "light"
     },
     "output_type": "display_data"
    }
   ],
   "source": [
    "ch_distances = np.array([4, 3, 3, 6, 6, 4, 3, 3, 3, 3, 4, 6, 6, 4, 3, 3, 3, 3, 4, 6, 6, 4, 3, 3, 3, 3, 4, 6, 6, 4, 3, 3])\n",
    "diff = paul_dists * 100 - ch_distances\n",
    "plt.plot(diff)"
   ]
  },
  {
   "cell_type": "code",
   "execution_count": 25,
   "id": "f2928e56",
   "metadata": {},
   "outputs": [
    {
     "data": {
      "text/plain": [
       "array([ 0.34054075,  0.38746024,  0.66513658, -0.55930838, -3.11635488,\n",
       "       -0.53302804,  2.03447589,  1.08537651,  1.34220273,  0.46696024,\n",
       "       -0.33162193, -0.55575333, -3.06198038, -0.49931384,  2.09174743,\n",
       "        1.13234237,  1.34054075,  0.38746024, -0.33486342, -0.55930838,\n",
       "       -3.11635488, -0.53302804,  2.03447589,  1.08537651,  1.34220273,\n",
       "        0.46696024, -0.33162193, -0.55575333, -3.06198038, -0.49931384,\n",
       "        2.09174743,  1.13234237])"
      ]
     },
     "execution_count": 25,
     "metadata": {},
     "output_type": "execute_result"
    }
   ],
   "source": [
    "diff"
   ]
  },
  {
   "cell_type": "code",
   "execution_count": 28,
   "id": "529e723b",
   "metadata": {},
   "outputs": [
    {
     "data": {
      "text/plain": [
       "[{'loc': array([-5.357950e-02,  5.997455e-02,  2.315135e-02, -6.072260e-02,\n",
       "          6.472820e-02,  3.216800e-03, -4.643640e-02,  5.522090e-02,\n",
       "          4.308590e-02,  7.350000e+02,           nan,           nan]),\n",
       "  'unit_mul': 0 (FIFF_UNITM_NONE),\n",
       "  'range': 1.0,\n",
       "  'cal': 1.0,\n",
       "  'kind': 1100 (FIFFV_FNIRS_CH),\n",
       "  'coil_type': 300 (FIFFV_COIL_FNIRS_HBO),\n",
       "  'unit': 6 (FIFF_UNIT_MOL),\n",
       "  'coord_frame': 0 (FIFFV_COORD_UNKNOWN),\n",
       "  'ch_name': 'S1_D1 hbo',\n",
       "  'scanno': 1,\n",
       "  'logno': 1},\n",
       " {'loc': array([-5.045000e-02,  6.837725e-02,  1.617945e-02, -6.072260e-02,\n",
       "          6.472820e-02,  3.216800e-03, -4.017740e-02,  7.202630e-02,\n",
       "          2.914210e-02,  7.350000e+02,           nan,           nan]),\n",
       "  'unit_mul': 0 (FIFF_UNITM_NONE),\n",
       "  'range': 1.0,\n",
       "  'cal': 1.0,\n",
       "  'kind': 1100 (FIFFV_FNIRS_CH),\n",
       "  'coil_type': 300 (FIFFV_COIL_FNIRS_HBO),\n",
       "  'unit': 6 (FIFF_UNIT_MOL),\n",
       "  'coord_frame': 0 (FIFFV_COORD_UNKNOWN),\n",
       "  'ch_name': 'S1_D2 hbo',\n",
       "  'scanno': 2,\n",
       "  'logno': 2},\n",
       " {'loc': array([-4.68307e-02,  7.53608e-02,  8.67515e-03, -6.07226e-02,\n",
       "          6.47282e-02,  3.21680e-03, -3.29388e-02,  8.59934e-02,\n",
       "          1.41335e-02,  7.35000e+02,          nan,          nan]),\n",
       "  'unit_mul': 0 (FIFF_UNITM_NONE),\n",
       "  'range': 1.0,\n",
       "  'cal': 1.0,\n",
       "  'kind': 1100 (FIFFV_FNIRS_CH),\n",
       "  'coil_type': 300 (FIFFV_COIL_FNIRS_HBO),\n",
       "  'unit': 6 (FIFF_UNIT_MOL),\n",
       "  'coord_frame': 0 (FIFFV_COORD_UNKNOWN),\n",
       "  'ch_name': 'S1_D3 hbo',\n",
       "  'scanno': 3,\n",
       "  'logno': 3},\n",
       " {'loc': array([-3.875460e-02,  7.616855e-02,  1.446640e-02, -6.072260e-02,\n",
       "          6.472820e-02,  3.216800e-03, -1.678660e-02,  8.760890e-02,\n",
       "          2.571600e-02,  7.350000e+02,           nan,           nan]),\n",
       "  'unit_mul': 0 (FIFF_UNITM_NONE),\n",
       "  'range': 1.0,\n",
       "  'cal': 1.0,\n",
       "  'kind': 1100 (FIFFV_FNIRS_CH),\n",
       "  'coil_type': 300 (FIFFV_COIL_FNIRS_HBO),\n",
       "  'unit': 6 (FIFF_UNIT_MOL),\n",
       "  'coord_frame': 0 (FIFFV_COORD_UNKNOWN),\n",
       "  'ch_name': 'S1_D4 hbo',\n",
       "  'scanno': 4,\n",
       "  'logno': 4},\n",
       " {'loc': array([-3.454765e-02,  5.896990e-02,  5.033075e-02, -2.265890e-02,\n",
       "          6.271890e-02,  5.757560e-02, -4.643640e-02,  5.522090e-02,\n",
       "          4.308590e-02,  7.350000e+02,           nan,           nan]),\n",
       "  'unit_mul': 0 (FIFF_UNITM_NONE),\n",
       "  'range': 1.0,\n",
       "  'cal': 1.0,\n",
       "  'kind': 1100 (FIFFV_FNIRS_CH),\n",
       "  'coil_type': 300 (FIFFV_COIL_FNIRS_HBO),\n",
       "  'unit': 6 (FIFF_UNIT_MOL),\n",
       "  'coord_frame': 0 (FIFFV_COORD_UNKNOWN),\n",
       "  'ch_name': 'S2_D1 hbo',\n",
       "  'scanno': 5,\n",
       "  'logno': 5},\n",
       " {'loc': array([-3.141815e-02,  6.737260e-02,  4.335885e-02, -2.265890e-02,\n",
       "          6.271890e-02,  5.757560e-02, -4.017740e-02,  7.202630e-02,\n",
       "          2.914210e-02,  7.350000e+02,           nan,           nan]),\n",
       "  'unit_mul': 0 (FIFF_UNITM_NONE),\n",
       "  'range': 1.0,\n",
       "  'cal': 1.0,\n",
       "  'kind': 1100 (FIFFV_FNIRS_CH),\n",
       "  'coil_type': 300 (FIFFV_COIL_FNIRS_HBO),\n",
       "  'unit': 6 (FIFF_UNIT_MOL),\n",
       "  'coord_frame': 0 (FIFFV_COORD_UNKNOWN),\n",
       "  'ch_name': 'S2_D2 hbo',\n",
       "  'scanno': 6,\n",
       "  'logno': 6},\n",
       " {'loc': array([-2.779885e-02,  7.435615e-02,  3.585455e-02, -2.265890e-02,\n",
       "          6.271890e-02,  5.757560e-02, -3.293880e-02,  8.599340e-02,\n",
       "          1.413350e-02,  7.350000e+02,           nan,           nan]),\n",
       "  'unit_mul': 0 (FIFF_UNITM_NONE),\n",
       "  'range': 1.0,\n",
       "  'cal': 1.0,\n",
       "  'kind': 1100 (FIFFV_FNIRS_CH),\n",
       "  'coil_type': 300 (FIFFV_COIL_FNIRS_HBO),\n",
       "  'unit': 6 (FIFF_UNIT_MOL),\n",
       "  'coord_frame': 0 (FIFFV_COORD_UNKNOWN),\n",
       "  'ch_name': 'S2_D3 hbo',\n",
       "  'scanno': 7,\n",
       "  'logno': 7},\n",
       " {'loc': array([-1.972275e-02,  7.516390e-02,  4.164580e-02, -2.265890e-02,\n",
       "          6.271890e-02,  5.757560e-02, -1.678660e-02,  8.760890e-02,\n",
       "          2.571600e-02,  7.350000e+02,           nan,           nan]),\n",
       "  'unit_mul': 0 (FIFF_UNITM_NONE),\n",
       "  'range': 1.0,\n",
       "  'cal': 1.0,\n",
       "  'kind': 1100 (FIFFV_FNIRS_CH),\n",
       "  'coil_type': 300 (FIFFV_COIL_FNIRS_HBO),\n",
       "  'unit': 6 (FIFF_UNIT_MOL),\n",
       "  'coord_frame': 0 (FIFFV_COORD_UNKNOWN),\n",
       "  'ch_name': 'S2_D4 hbo',\n",
       "  'scanno': 8,\n",
       "  'logno': 8},\n",
       " {'loc': array([5.3652800e-02, 6.0053950e-02, 2.3206595e-02, 6.0850700e-02,\n",
       "         6.4865400e-02, 3.2965900e-03, 4.6454900e-02, 5.5242500e-02,\n",
       "         4.3116600e-02, 7.3500000e+02,           nan,           nan]),\n",
       "  'unit_mul': 0 (FIFF_UNITM_NONE),\n",
       "  'range': 1.0,\n",
       "  'cal': 1.0,\n",
       "  'kind': 1100 (FIFFV_FNIRS_CH),\n",
       "  'coil_type': 300 (FIFFV_COIL_FNIRS_HBO),\n",
       "  'unit': 6 (FIFF_UNIT_MOL),\n",
       "  'coord_frame': 0 (FIFFV_COORD_UNKNOWN),\n",
       "  'ch_name': 'S3_D5 hbo',\n",
       "  'scanno': 9,\n",
       "  'logno': 9},\n",
       " {'loc': array([5.0909600e-02, 6.9142800e-02, 1.6838145e-02, 6.0850700e-02,\n",
       "         6.4865400e-02, 3.2965900e-03, 4.0968500e-02, 7.3420200e-02,\n",
       "         3.0379700e-02, 7.3500000e+02,           nan,           nan]),\n",
       "  'unit_mul': 0 (FIFF_UNITM_NONE),\n",
       "  'range': 1.0,\n",
       "  'cal': 1.0,\n",
       "  'kind': 1100 (FIFFV_FNIRS_CH),\n",
       "  'coil_type': 300 (FIFFV_COIL_FNIRS_HBO),\n",
       "  'unit': 6 (FIFF_UNIT_MOL),\n",
       "  'coord_frame': 0 (FIFFV_COORD_UNKNOWN),\n",
       "  'ch_name': 'S3_D6 hbo',\n",
       "  'scanno': 10,\n",
       "  'logno': 10},\n",
       " {'loc': array([4.691115e-02, 7.547175e-02, 8.738945e-03, 6.085070e-02,\n",
       "         6.486540e-02, 3.296590e-03, 3.297160e-02, 8.607810e-02,\n",
       "         1.418130e-02, 7.350000e+02,          nan,          nan]),\n",
       "  'unit_mul': 0 (FIFF_UNITM_NONE),\n",
       "  'range': 1.0,\n",
       "  'cal': 1.0,\n",
       "  'kind': 1100 (FIFFV_FNIRS_CH),\n",
       "  'coil_type': 300 (FIFFV_COIL_FNIRS_HBO),\n",
       "  'unit': 6 (FIFF_UNIT_MOL),\n",
       "  'coord_frame': 0 (FIFFV_COORD_UNKNOWN),\n",
       "  'ch_name': 'S3_D7 hbo',\n",
       "  'scanno': 11,\n",
       "  'logno': 11},\n",
       " {'loc': array([3.8822650e-02, 7.6257750e-02, 1.4520445e-02, 6.0850700e-02,\n",
       "         6.4865400e-02, 3.2965900e-03, 1.6794600e-02, 8.7650100e-02,\n",
       "         2.5744300e-02, 7.3500000e+02,           nan,           nan]),\n",
       "  'unit_mul': 0 (FIFF_UNITM_NONE),\n",
       "  'range': 1.0,\n",
       "  'cal': 1.0,\n",
       "  'kind': 1100 (FIFFV_FNIRS_CH),\n",
       "  'coil_type': 300 (FIFFV_COIL_FNIRS_HBO),\n",
       "  'unit': 6 (FIFF_UNIT_MOL),\n",
       "  'coord_frame': 0 (FIFFV_COORD_UNKNOWN),\n",
       "  'ch_name': 'S3_D8 hbo',\n",
       "  'scanno': 12,\n",
       "  'logno': 12},\n",
       " {'loc': array([3.46945e-02, 5.93540e-02, 5.09004e-02, 2.29341e-02, 6.34655e-02,\n",
       "         5.86842e-02, 4.64549e-02, 5.52425e-02, 4.31166e-02, 7.35000e+02,\n",
       "                 nan,         nan]),\n",
       "  'unit_mul': 0 (FIFF_UNITM_NONE),\n",
       "  'range': 1.0,\n",
       "  'cal': 1.0,\n",
       "  'kind': 1100 (FIFFV_FNIRS_CH),\n",
       "  'coil_type': 300 (FIFFV_COIL_FNIRS_HBO),\n",
       "  'unit': 6 (FIFF_UNIT_MOL),\n",
       "  'coord_frame': 0 (FIFFV_COORD_UNKNOWN),\n",
       "  'ch_name': 'S4_D5 hbo',\n",
       "  'scanno': 13,\n",
       "  'logno': 13},\n",
       " {'loc': array([3.195130e-02, 6.844285e-02, 4.453195e-02, 2.293410e-02,\n",
       "         6.346550e-02, 5.868420e-02, 4.096850e-02, 7.342020e-02,\n",
       "         3.037970e-02, 7.350000e+02,          nan,          nan]),\n",
       "  'unit_mul': 0 (FIFF_UNITM_NONE),\n",
       "  'range': 1.0,\n",
       "  'cal': 1.0,\n",
       "  'kind': 1100 (FIFFV_FNIRS_CH),\n",
       "  'coil_type': 300 (FIFFV_COIL_FNIRS_HBO),\n",
       "  'unit': 6 (FIFF_UNIT_MOL),\n",
       "  'coord_frame': 0 (FIFFV_COORD_UNKNOWN),\n",
       "  'ch_name': 'S4_D6 hbo',\n",
       "  'scanno': 14,\n",
       "  'logno': 14},\n",
       " {'loc': array([2.795285e-02, 7.477180e-02, 3.643275e-02, 2.293410e-02,\n",
       "         6.346550e-02, 5.868420e-02, 3.297160e-02, 8.607810e-02,\n",
       "         1.418130e-02, 7.350000e+02,          nan,          nan]),\n",
       "  'unit_mul': 0 (FIFF_UNITM_NONE),\n",
       "  'range': 1.0,\n",
       "  'cal': 1.0,\n",
       "  'kind': 1100 (FIFFV_FNIRS_CH),\n",
       "  'coil_type': 300 (FIFFV_COIL_FNIRS_HBO),\n",
       "  'unit': 6 (FIFF_UNIT_MOL),\n",
       "  'coord_frame': 0 (FIFFV_COORD_UNKNOWN),\n",
       "  'ch_name': 'S4_D7 hbo',\n",
       "  'scanno': 15,\n",
       "  'logno': 15},\n",
       " {'loc': array([1.986435e-02, 7.555780e-02, 4.221425e-02, 2.293410e-02,\n",
       "         6.346550e-02, 5.868420e-02, 1.679460e-02, 8.765010e-02,\n",
       "         2.574430e-02, 7.350000e+02,          nan,          nan]),\n",
       "  'unit_mul': 0 (FIFF_UNITM_NONE),\n",
       "  'range': 1.0,\n",
       "  'cal': 1.0,\n",
       "  'kind': 1100 (FIFFV_FNIRS_CH),\n",
       "  'coil_type': 300 (FIFFV_COIL_FNIRS_HBO),\n",
       "  'unit': 6 (FIFF_UNIT_MOL),\n",
       "  'coord_frame': 0 (FIFFV_COORD_UNKNOWN),\n",
       "  'ch_name': 'S4_D8 hbo',\n",
       "  'scanno': 16,\n",
       "  'logno': 16},\n",
       " {'loc': array([-5.357950e-02,  5.997455e-02,  2.315135e-02, -6.072260e-02,\n",
       "          6.472820e-02,  3.216800e-03, -4.643640e-02,  5.522090e-02,\n",
       "          4.308590e-02,  8.500000e+02,           nan,           nan]),\n",
       "  'unit_mul': 0 (FIFF_UNITM_NONE),\n",
       "  'range': 1.0,\n",
       "  'cal': 1.0,\n",
       "  'kind': 1100 (FIFFV_FNIRS_CH),\n",
       "  'coil_type': 301 (FIFFV_COIL_FNIRS_HBR),\n",
       "  'unit': 6 (FIFF_UNIT_MOL),\n",
       "  'coord_frame': 0 (FIFFV_COORD_UNKNOWN),\n",
       "  'ch_name': 'S1_D1 hbr',\n",
       "  'scanno': 17,\n",
       "  'logno': 17},\n",
       " {'loc': array([-5.045000e-02,  6.837725e-02,  1.617945e-02, -6.072260e-02,\n",
       "          6.472820e-02,  3.216800e-03, -4.017740e-02,  7.202630e-02,\n",
       "          2.914210e-02,  8.500000e+02,           nan,           nan]),\n",
       "  'unit_mul': 0 (FIFF_UNITM_NONE),\n",
       "  'range': 1.0,\n",
       "  'cal': 1.0,\n",
       "  'kind': 1100 (FIFFV_FNIRS_CH),\n",
       "  'coil_type': 301 (FIFFV_COIL_FNIRS_HBR),\n",
       "  'unit': 6 (FIFF_UNIT_MOL),\n",
       "  'coord_frame': 0 (FIFFV_COORD_UNKNOWN),\n",
       "  'ch_name': 'S1_D2 hbr',\n",
       "  'scanno': 18,\n",
       "  'logno': 18},\n",
       " {'loc': array([-4.68307e-02,  7.53608e-02,  8.67515e-03, -6.07226e-02,\n",
       "          6.47282e-02,  3.21680e-03, -3.29388e-02,  8.59934e-02,\n",
       "          1.41335e-02,  8.50000e+02,          nan,          nan]),\n",
       "  'unit_mul': 0 (FIFF_UNITM_NONE),\n",
       "  'range': 1.0,\n",
       "  'cal': 1.0,\n",
       "  'kind': 1100 (FIFFV_FNIRS_CH),\n",
       "  'coil_type': 301 (FIFFV_COIL_FNIRS_HBR),\n",
       "  'unit': 6 (FIFF_UNIT_MOL),\n",
       "  'coord_frame': 0 (FIFFV_COORD_UNKNOWN),\n",
       "  'ch_name': 'S1_D3 hbr',\n",
       "  'scanno': 19,\n",
       "  'logno': 19},\n",
       " {'loc': array([-3.875460e-02,  7.616855e-02,  1.446640e-02, -6.072260e-02,\n",
       "          6.472820e-02,  3.216800e-03, -1.678660e-02,  8.760890e-02,\n",
       "          2.571600e-02,  8.500000e+02,           nan,           nan]),\n",
       "  'unit_mul': 0 (FIFF_UNITM_NONE),\n",
       "  'range': 1.0,\n",
       "  'cal': 1.0,\n",
       "  'kind': 1100 (FIFFV_FNIRS_CH),\n",
       "  'coil_type': 301 (FIFFV_COIL_FNIRS_HBR),\n",
       "  'unit': 6 (FIFF_UNIT_MOL),\n",
       "  'coord_frame': 0 (FIFFV_COORD_UNKNOWN),\n",
       "  'ch_name': 'S1_D4 hbr',\n",
       "  'scanno': 20,\n",
       "  'logno': 20},\n",
       " {'loc': array([-3.454765e-02,  5.896990e-02,  5.033075e-02, -2.265890e-02,\n",
       "          6.271890e-02,  5.757560e-02, -4.643640e-02,  5.522090e-02,\n",
       "          4.308590e-02,  8.500000e+02,           nan,           nan]),\n",
       "  'unit_mul': 0 (FIFF_UNITM_NONE),\n",
       "  'range': 1.0,\n",
       "  'cal': 1.0,\n",
       "  'kind': 1100 (FIFFV_FNIRS_CH),\n",
       "  'coil_type': 301 (FIFFV_COIL_FNIRS_HBR),\n",
       "  'unit': 6 (FIFF_UNIT_MOL),\n",
       "  'coord_frame': 0 (FIFFV_COORD_UNKNOWN),\n",
       "  'ch_name': 'S2_D1 hbr',\n",
       "  'scanno': 21,\n",
       "  'logno': 21},\n",
       " {'loc': array([-3.141815e-02,  6.737260e-02,  4.335885e-02, -2.265890e-02,\n",
       "          6.271890e-02,  5.757560e-02, -4.017740e-02,  7.202630e-02,\n",
       "          2.914210e-02,  8.500000e+02,           nan,           nan]),\n",
       "  'unit_mul': 0 (FIFF_UNITM_NONE),\n",
       "  'range': 1.0,\n",
       "  'cal': 1.0,\n",
       "  'kind': 1100 (FIFFV_FNIRS_CH),\n",
       "  'coil_type': 301 (FIFFV_COIL_FNIRS_HBR),\n",
       "  'unit': 6 (FIFF_UNIT_MOL),\n",
       "  'coord_frame': 0 (FIFFV_COORD_UNKNOWN),\n",
       "  'ch_name': 'S2_D2 hbr',\n",
       "  'scanno': 22,\n",
       "  'logno': 22},\n",
       " {'loc': array([-2.779885e-02,  7.435615e-02,  3.585455e-02, -2.265890e-02,\n",
       "          6.271890e-02,  5.757560e-02, -3.293880e-02,  8.599340e-02,\n",
       "          1.413350e-02,  8.500000e+02,           nan,           nan]),\n",
       "  'unit_mul': 0 (FIFF_UNITM_NONE),\n",
       "  'range': 1.0,\n",
       "  'cal': 1.0,\n",
       "  'kind': 1100 (FIFFV_FNIRS_CH),\n",
       "  'coil_type': 301 (FIFFV_COIL_FNIRS_HBR),\n",
       "  'unit': 6 (FIFF_UNIT_MOL),\n",
       "  'coord_frame': 0 (FIFFV_COORD_UNKNOWN),\n",
       "  'ch_name': 'S2_D3 hbr',\n",
       "  'scanno': 23,\n",
       "  'logno': 23},\n",
       " {'loc': array([-1.972275e-02,  7.516390e-02,  4.164580e-02, -2.265890e-02,\n",
       "          6.271890e-02,  5.757560e-02, -1.678660e-02,  8.760890e-02,\n",
       "          2.571600e-02,  8.500000e+02,           nan,           nan]),\n",
       "  'unit_mul': 0 (FIFF_UNITM_NONE),\n",
       "  'range': 1.0,\n",
       "  'cal': 1.0,\n",
       "  'kind': 1100 (FIFFV_FNIRS_CH),\n",
       "  'coil_type': 301 (FIFFV_COIL_FNIRS_HBR),\n",
       "  'unit': 6 (FIFF_UNIT_MOL),\n",
       "  'coord_frame': 0 (FIFFV_COORD_UNKNOWN),\n",
       "  'ch_name': 'S2_D4 hbr',\n",
       "  'scanno': 24,\n",
       "  'logno': 24},\n",
       " {'loc': array([5.3652800e-02, 6.0053950e-02, 2.3206595e-02, 6.0850700e-02,\n",
       "         6.4865400e-02, 3.2965900e-03, 4.6454900e-02, 5.5242500e-02,\n",
       "         4.3116600e-02, 8.5000000e+02,           nan,           nan]),\n",
       "  'unit_mul': 0 (FIFF_UNITM_NONE),\n",
       "  'range': 1.0,\n",
       "  'cal': 1.0,\n",
       "  'kind': 1100 (FIFFV_FNIRS_CH),\n",
       "  'coil_type': 301 (FIFFV_COIL_FNIRS_HBR),\n",
       "  'unit': 6 (FIFF_UNIT_MOL),\n",
       "  'coord_frame': 0 (FIFFV_COORD_UNKNOWN),\n",
       "  'ch_name': 'S3_D5 hbr',\n",
       "  'scanno': 25,\n",
       "  'logno': 25},\n",
       " {'loc': array([5.0909600e-02, 6.9142800e-02, 1.6838145e-02, 6.0850700e-02,\n",
       "         6.4865400e-02, 3.2965900e-03, 4.0968500e-02, 7.3420200e-02,\n",
       "         3.0379700e-02, 8.5000000e+02,           nan,           nan]),\n",
       "  'unit_mul': 0 (FIFF_UNITM_NONE),\n",
       "  'range': 1.0,\n",
       "  'cal': 1.0,\n",
       "  'kind': 1100 (FIFFV_FNIRS_CH),\n",
       "  'coil_type': 301 (FIFFV_COIL_FNIRS_HBR),\n",
       "  'unit': 6 (FIFF_UNIT_MOL),\n",
       "  'coord_frame': 0 (FIFFV_COORD_UNKNOWN),\n",
       "  'ch_name': 'S3_D6 hbr',\n",
       "  'scanno': 26,\n",
       "  'logno': 26},\n",
       " {'loc': array([4.691115e-02, 7.547175e-02, 8.738945e-03, 6.085070e-02,\n",
       "         6.486540e-02, 3.296590e-03, 3.297160e-02, 8.607810e-02,\n",
       "         1.418130e-02, 8.500000e+02,          nan,          nan]),\n",
       "  'unit_mul': 0 (FIFF_UNITM_NONE),\n",
       "  'range': 1.0,\n",
       "  'cal': 1.0,\n",
       "  'kind': 1100 (FIFFV_FNIRS_CH),\n",
       "  'coil_type': 301 (FIFFV_COIL_FNIRS_HBR),\n",
       "  'unit': 6 (FIFF_UNIT_MOL),\n",
       "  'coord_frame': 0 (FIFFV_COORD_UNKNOWN),\n",
       "  'ch_name': 'S3_D7 hbr',\n",
       "  'scanno': 27,\n",
       "  'logno': 27},\n",
       " {'loc': array([3.8822650e-02, 7.6257750e-02, 1.4520445e-02, 6.0850700e-02,\n",
       "         6.4865400e-02, 3.2965900e-03, 1.6794600e-02, 8.7650100e-02,\n",
       "         2.5744300e-02, 8.5000000e+02,           nan,           nan]),\n",
       "  'unit_mul': 0 (FIFF_UNITM_NONE),\n",
       "  'range': 1.0,\n",
       "  'cal': 1.0,\n",
       "  'kind': 1100 (FIFFV_FNIRS_CH),\n",
       "  'coil_type': 301 (FIFFV_COIL_FNIRS_HBR),\n",
       "  'unit': 6 (FIFF_UNIT_MOL),\n",
       "  'coord_frame': 0 (FIFFV_COORD_UNKNOWN),\n",
       "  'ch_name': 'S3_D8 hbr',\n",
       "  'scanno': 28,\n",
       "  'logno': 28},\n",
       " {'loc': array([3.46945e-02, 5.93540e-02, 5.09004e-02, 2.29341e-02, 6.34655e-02,\n",
       "         5.86842e-02, 4.64549e-02, 5.52425e-02, 4.31166e-02, 8.50000e+02,\n",
       "                 nan,         nan]),\n",
       "  'unit_mul': 0 (FIFF_UNITM_NONE),\n",
       "  'range': 1.0,\n",
       "  'cal': 1.0,\n",
       "  'kind': 1100 (FIFFV_FNIRS_CH),\n",
       "  'coil_type': 301 (FIFFV_COIL_FNIRS_HBR),\n",
       "  'unit': 6 (FIFF_UNIT_MOL),\n",
       "  'coord_frame': 0 (FIFFV_COORD_UNKNOWN),\n",
       "  'ch_name': 'S4_D5 hbr',\n",
       "  'scanno': 29,\n",
       "  'logno': 29},\n",
       " {'loc': array([3.195130e-02, 6.844285e-02, 4.453195e-02, 2.293410e-02,\n",
       "         6.346550e-02, 5.868420e-02, 4.096850e-02, 7.342020e-02,\n",
       "         3.037970e-02, 8.500000e+02,          nan,          nan]),\n",
       "  'unit_mul': 0 (FIFF_UNITM_NONE),\n",
       "  'range': 1.0,\n",
       "  'cal': 1.0,\n",
       "  'kind': 1100 (FIFFV_FNIRS_CH),\n",
       "  'coil_type': 301 (FIFFV_COIL_FNIRS_HBR),\n",
       "  'unit': 6 (FIFF_UNIT_MOL),\n",
       "  'coord_frame': 0 (FIFFV_COORD_UNKNOWN),\n",
       "  'ch_name': 'S4_D6 hbr',\n",
       "  'scanno': 30,\n",
       "  'logno': 30},\n",
       " {'loc': array([2.795285e-02, 7.477180e-02, 3.643275e-02, 2.293410e-02,\n",
       "         6.346550e-02, 5.868420e-02, 3.297160e-02, 8.607810e-02,\n",
       "         1.418130e-02, 8.500000e+02,          nan,          nan]),\n",
       "  'unit_mul': 0 (FIFF_UNITM_NONE),\n",
       "  'range': 1.0,\n",
       "  'cal': 1.0,\n",
       "  'kind': 1100 (FIFFV_FNIRS_CH),\n",
       "  'coil_type': 301 (FIFFV_COIL_FNIRS_HBR),\n",
       "  'unit': 6 (FIFF_UNIT_MOL),\n",
       "  'coord_frame': 0 (FIFFV_COORD_UNKNOWN),\n",
       "  'ch_name': 'S4_D7 hbr',\n",
       "  'scanno': 31,\n",
       "  'logno': 31},\n",
       " {'loc': array([1.986435e-02, 7.555780e-02, 4.221425e-02, 2.293410e-02,\n",
       "         6.346550e-02, 5.868420e-02, 1.679460e-02, 8.765010e-02,\n",
       "         2.574430e-02, 8.500000e+02,          nan,          nan]),\n",
       "  'unit_mul': 0 (FIFF_UNITM_NONE),\n",
       "  'range': 1.0,\n",
       "  'cal': 1.0,\n",
       "  'kind': 1100 (FIFFV_FNIRS_CH),\n",
       "  'coil_type': 301 (FIFFV_COIL_FNIRS_HBR),\n",
       "  'unit': 6 (FIFF_UNIT_MOL),\n",
       "  'coord_frame': 0 (FIFFV_COORD_UNKNOWN),\n",
       "  'ch_name': 'S4_D8 hbr',\n",
       "  'scanno': 32,\n",
       "  'logno': 32}]"
      ]
     },
     "execution_count": 28,
     "metadata": {},
     "output_type": "execute_result"
    }
   ],
   "source": [
    "paul_raw_haemo.info[\"chs\"]"
   ]
  },
  {
   "cell_type": "code",
   "execution_count": 29,
   "id": "9eb379f0",
   "metadata": {},
   "outputs": [
    {
     "data": {
      "text/plain": [
       "<Annotations | 132 segments: counting7 (132)>"
      ]
     },
     "execution_count": 29,
     "metadata": {},
     "output_type": "execute_result"
    }
   ],
   "source": [
    "paul_raw_intensity.annotations"
   ]
  },
  {
   "cell_type": "code",
   "execution_count": 33,
   "id": "cc3431d1",
   "metadata": {},
   "outputs": [
    {
     "data": {
      "text/plain": [
       "array([[-0.0607226,  0.0647282,  0.0032168],\n",
       "       [-0.0464364,  0.0552209,  0.0430859]])"
      ]
     },
     "execution_count": 33,
     "metadata": {},
     "output_type": "execute_result"
    }
   ],
   "source": [
    "paul_raw_haemo.info[\"chs\"][0][\"loc\"][3:9].reshape(2, 3)"
   ]
  },
  {
   "cell_type": "code",
   "execution_count": 34,
   "id": "be4dd993",
   "metadata": {},
   "outputs": [
    {
     "data": {
      "text/plain": [
       "32"
      ]
     },
     "execution_count": 34,
     "metadata": {},
     "output_type": "execute_result"
    }
   ],
   "source": [
    "len(paul_raw_haemo.info[\"chs\"])"
   ]
  },
  {
   "cell_type": "code",
   "execution_count": 37,
   "id": "89614992",
   "metadata": {},
   "outputs": [
    {
     "data": {
      "text/plain": [
       "{'loc': array([1.986435e-02, 7.555780e-02, 4.221425e-02, 2.293410e-02,\n",
       "        6.346550e-02, 5.868420e-02, 1.679460e-02, 8.765010e-02,\n",
       "        2.574430e-02, 7.350000e+02,          nan,          nan]),\n",
       " 'unit_mul': 0 (FIFF_UNITM_NONE),\n",
       " 'range': 1.0,\n",
       " 'cal': 1.0,\n",
       " 'kind': 1100 (FIFFV_FNIRS_CH),\n",
       " 'coil_type': 300 (FIFFV_COIL_FNIRS_HBO),\n",
       " 'unit': 6 (FIFF_UNIT_MOL),\n",
       " 'coord_frame': 0 (FIFFV_COORD_UNKNOWN),\n",
       " 'ch_name': 'S4_D8 hbo',\n",
       " 'scanno': 16,\n",
       " 'logno': 16}"
      ]
     },
     "execution_count": 37,
     "metadata": {},
     "output_type": "execute_result"
    }
   ],
   "source": [
    "paul_raw_haemo.info[\"chs\"][15]"
   ]
  },
  {
   "cell_type": "code",
   "execution_count": 38,
   "id": "c3fb7819",
   "metadata": {},
   "outputs": [
    {
     "data": {
      "image/png": "[encoded data removed]",
      "text/plain": [
       "<Figure size 432x288 with 1 Axes>"
      ]
     },
     "metadata": {
      "needs_background": "light"
     },
     "output_type": "display_data"
    },
    {
     "data": {
      "image/png": "[encoded data removed]",
      "text/plain": [
       "<Figure size 432x288 with 1 Axes>"
      ]
     },
     "execution_count": 38,
     "metadata": {},
     "output_type": "execute_result"
    }
   ],
   "source": [
    "events, event_dict = mne.events_from_annotations(raw_haemo, verbose=False)\n",
    "mne.viz.plot_events(events, event_id=event_dict, sfreq=raw_haemo.info['sfreq'])"
   ]
  },
  {
   "cell_type": "code",
   "execution_count": 39,
   "id": "32fa12b7",
   "metadata": {},
   "outputs": [
    {
     "data": {
      "image/png": "[encoded data removed]",
      "text/plain": [
       "<Figure size 432x288 with 1 Axes>"
      ]
     },
     "metadata": {
      "needs_background": "light"
     },
     "output_type": "display_data"
    },
    {
     "data": {
      "image/png": "[encoded data removed]",
      "text/plain": [
       "<Figure size 432x288 with 1 Axes>"
      ]
     },
     "execution_count": 39,
     "metadata": {},
     "output_type": "execute_result"
    }
   ],
   "source": [
    "events, event_dict = mne.events_from_annotations(paul_raw_haemo, verbose=False)\n",
    "mne.viz.plot_events(events, event_id=event_dict, sfreq=paul_raw_haemo.info['sfreq'])"
   ]
  },
  {
   "cell_type": "code",
   "execution_count": 41,
   "id": "6beb43ca",
   "metadata": {},
   "outputs": [
    {
     "data": {
      "text/plain": [
       "(132, 3)"
      ]
     },
     "execution_count": 41,
     "metadata": {},
     "output_type": "execute_result"
    }
   ],
   "source": [
    "events.shape"
   ]
  },
  {
   "cell_type": "code",
   "execution_count": 43,
   "id": "723e63a2",
   "metadata": {},
   "outputs": [
    {
     "data": {
      "text/plain": [
       "{'counting7': 1}"
      ]
     },
     "execution_count": 43,
     "metadata": {},
     "output_type": "execute_result"
    }
   ],
   "source": [
    "event_dict"
   ]
  },
  {
   "cell_type": "code",
   "execution_count": 44,
   "id": "2dc6290f",
   "metadata": {},
   "outputs": [
    {
     "data": {
      "text/plain": [
       "array([2352,    0,    1])"
      ]
     },
     "execution_count": 44,
     "metadata": {},
     "output_type": "execute_result"
    }
   ],
   "source": [
    "events[0]"
   ]
  },
  {
   "cell_type": "markdown",
   "id": "cbede70b",
   "metadata": {},
   "source": [
    "Events correspond to specific time points in raw data, such as triggers, experimental condition events, etc. MNE-Python represents events with integers stored in NumPy arrays of shape (n_events, 3). The first column contains the event onset (in samples) with first_samp included. The last column contains the event code. The second column contains the signal value of the immediately preceding sample, and reflects the fact that event arrays sometimes originate from analog voltage channels (“trigger channels” or “stim channels”). In most cases, the second column is all zeros and can be ignored. Event arrays can be created with mne.make_fixed_length_events(), mne.read_events(), and mne.find_events(). See Parsing events from raw data for a short tutorial. See also annotations."
   ]
  },
  {
   "cell_type": "code",
   "execution_count": 46,
   "id": "2213db46",
   "metadata": {},
   "outputs": [
    {
     "data": {
      "text/plain": [
       "235.2"
      ]
     },
     "execution_count": 46,
     "metadata": {},
     "output_type": "execute_result"
    }
   ],
   "source": [
    "2352 / 10"
   ]
  },
  {
   "cell_type": "code",
   "execution_count": 48,
   "id": "3a307734",
   "metadata": {},
   "outputs": [
    {
     "data": {
      "text/plain": [
       "array([[2352,    0,    1],\n",
       "       [2352,    0,    1],\n",
       "       [2353,    0,    1],\n",
       "       [2353,    0,    1],\n",
       "       [2354,    0,    1],\n",
       "       [2354,    0,    1],\n",
       "       [2355,    0,    1],\n",
       "       [2355,    0,    1],\n",
       "       [2356,    0,    1],\n",
       "       [2356,    0,    1]])"
      ]
     },
     "execution_count": 48,
     "metadata": {},
     "output_type": "execute_result"
    }
   ],
   "source": [
    "events[:10]"
   ]
  },
  {
   "cell_type": "code",
   "execution_count": 49,
   "id": "a3d8ad38",
   "metadata": {},
   "outputs": [
    {
     "data": {
      "text/plain": [
       "array([[2352,    0,    1],\n",
       "       [2352,    0,    1],\n",
       "       [2353,    0,    1],\n",
       "       [2353,    0,    1],\n",
       "       [2354,    0,    1],\n",
       "       [2354,    0,    1],\n",
       "       [2355,    0,    1],\n",
       "       [2355,    0,    1],\n",
       "       [2356,    0,    1],\n",
       "       [2356,    0,    1],\n",
       "       [2357,    0,    1],\n",
       "       [2357,    0,    1],\n",
       "       [2358,    0,    1],\n",
       "       [2358,    0,    1],\n",
       "       [2359,    0,    1],\n",
       "       [2359,    0,    1],\n",
       "       [2360,    0,    1],\n",
       "       [2360,    0,    1],\n",
       "       [2361,    0,    1],\n",
       "       [2361,    0,    1]])"
      ]
     },
     "execution_count": 49,
     "metadata": {},
     "output_type": "execute_result"
    }
   ],
   "source": [
    "events[:20]"
   ]
  },
  {
   "cell_type": "code",
   "execution_count": 50,
   "id": "9725b999",
   "metadata": {},
   "outputs": [
    {
     "data": {
      "text/plain": [
       "132"
      ]
     },
     "execution_count": 50,
     "metadata": {},
     "output_type": "execute_result"
    }
   ],
   "source": [
    "len(events)"
   ]
  },
  {
   "cell_type": "code",
   "execution_count": 51,
   "id": "ef5508b2",
   "metadata": {},
   "outputs": [
    {
     "data": {
      "text/plain": [
       "array([[2352,    0,    1],\n",
       "       [2352,    0,    1],\n",
       "       [2353,    0,    1],\n",
       "       [2353,    0,    1],\n",
       "       [2354,    0,    1],\n",
       "       [2354,    0,    1],\n",
       "       [2355,    0,    1],\n",
       "       [2355,    0,    1],\n",
       "       [2356,    0,    1],\n",
       "       [2356,    0,    1],\n",
       "       [2357,    0,    1],\n",
       "       [2357,    0,    1],\n",
       "       [2358,    0,    1],\n",
       "       [2358,    0,    1],\n",
       "       [2359,    0,    1],\n",
       "       [2359,    0,    1],\n",
       "       [2360,    0,    1],\n",
       "       [2360,    0,    1],\n",
       "       [2361,    0,    1],\n",
       "       [2361,    0,    1],\n",
       "       [2362,    0,    1],\n",
       "       [2362,    0,    1],\n",
       "       [2754,    0,    1],\n",
       "       [2754,    0,    1],\n",
       "       [2755,    0,    1],\n",
       "       [2755,    0,    1],\n",
       "       [2756,    0,    1],\n",
       "       [2756,    0,    1],\n",
       "       [2757,    0,    1],\n",
       "       [2757,    0,    1],\n",
       "       [2758,    0,    1],\n",
       "       [2758,    0,    1],\n",
       "       [2759,    0,    1],\n",
       "       [2759,    0,    1],\n",
       "       [2760,    0,    1],\n",
       "       [2760,    0,    1],\n",
       "       [2761,    0,    1],\n",
       "       [2761,    0,    1],\n",
       "       [2762,    0,    1],\n",
       "       [2762,    0,    1],\n",
       "       [2763,    0,    1],\n",
       "       [2763,    0,    1],\n",
       "       [2764,    0,    1],\n",
       "       [2764,    0,    1],\n",
       "       [3013,    0,    1],\n",
       "       [3013,    0,    1],\n",
       "       [3014,    0,    1],\n",
       "       [3014,    0,    1],\n",
       "       [3015,    0,    1],\n",
       "       [3015,    0,    1]])"
      ]
     },
     "execution_count": 51,
     "metadata": {},
     "output_type": "execute_result"
    }
   ],
   "source": [
    "events[:50]"
   ]
  },
  {
   "cell_type": "code",
   "execution_count": 54,
   "id": "fddafc4a",
   "metadata": {},
   "outputs": [
    {
     "data": {
      "text/plain": [
       "OrderedDict([('onset', 235.2),\n",
       "             ('duration', 10.0),\n",
       "             ('description', 'counting7'),\n",
       "             ('orig_time',\n",
       "              datetime.datetime(2023, 9, 13, 14, 9, 5, tzinfo=datetime.timezone.utc))])"
      ]
     },
     "execution_count": 54,
     "metadata": {},
     "output_type": "execute_result"
    }
   ],
   "source": [
    "paul_raw_intensity.annotations[0]"
   ]
  },
  {
   "cell_type": "code",
   "execution_count": 55,
   "id": "8eeaf76b",
   "metadata": {},
   "outputs": [],
   "source": [
    "paul_raw_intensity.annotations[0].description = \"hi\""
   ]
  },
  {
   "cell_type": "code",
   "execution_count": 56,
   "id": "61d898d5",
   "metadata": {},
   "outputs": [
    {
     "data": {
      "text/plain": [
       "OrderedDict([('onset', 235.2),\n",
       "             ('duration', 10.0),\n",
       "             ('description', 'counting7'),\n",
       "             ('orig_time',\n",
       "              datetime.datetime(2023, 9, 13, 14, 9, 5, tzinfo=datetime.timezone.utc))])"
      ]
     },
     "execution_count": 56,
     "metadata": {},
     "output_type": "execute_result"
    }
   ],
   "source": [
    "paul_raw_intensity.annotations[0]"
   ]
  },
  {
   "cell_type": "code",
   "execution_count": 63,
   "id": "913cbfe2",
   "metadata": {},
   "outputs": [],
   "source": [
    "paul_raw_intensity.annotations.description[0] = \"hi\""
   ]
  },
  {
   "cell_type": "code",
   "execution_count": 64,
   "id": "3ff33780",
   "metadata": {},
   "outputs": [
    {
     "data": {
      "text/plain": [
       "OrderedDict([('onset', 235.2),\n",
       "             ('duration', 10.0),\n",
       "             ('description', 'hi'),\n",
       "             ('orig_time',\n",
       "              datetime.datetime(2023, 9, 13, 14, 9, 5, tzinfo=datetime.timezone.utc))])"
      ]
     },
     "execution_count": 64,
     "metadata": {},
     "output_type": "execute_result"
    }
   ],
   "source": [
    "paul_raw_intensity.annotations[0]"
   ]
  },
  {
   "cell_type": "code",
   "execution_count": 67,
   "id": "52f0695c",
   "metadata": {},
   "outputs": [
    {
     "name": "stdout",
     "output_type": "stream",
     "text": [
      "num_annotations = 132\n"
     ]
    }
   ],
   "source": [
    "num_annotations = len(paul_raw_intensity.annotations) \n",
    "print(f\"{num_annotations = }\")\n",
    "# paul_raw_intensity.annotations[0]\n",
    "for i in range(num_annotations):\n",
    "    if i%2 == 0:\n",
    "        paul_raw_intensity.annotations.description[i] = \"on\"\n",
    "    else:\n",
    "        paul_raw_intensity.annotations.description[i] = \"off\""
   ]
  },
  {
   "cell_type": "code",
   "execution_count": 68,
   "id": "e65bd2f0",
   "metadata": {},
   "outputs": [
    {
     "data": {
      "text/plain": [
       "OrderedDict([('onset', 235.2),\n",
       "             ('duration', 10.0),\n",
       "             ('description', 'on'),\n",
       "             ('orig_time',\n",
       "              datetime.datetime(2023, 9, 13, 14, 9, 5, tzinfo=datetime.timezone.utc))])"
      ]
     },
     "execution_count": 68,
     "metadata": {},
     "output_type": "execute_result"
    }
   ],
   "source": [
    "paul_raw_intensity.annotations[0]"
   ]
  },
  {
   "cell_type": "code",
   "execution_count": 69,
   "id": "64251e42",
   "metadata": {},
   "outputs": [
    {
     "data": {
      "text/plain": [
       "OrderedDict([('onset', 235.2),\n",
       "             ('duration', 10.0),\n",
       "             ('description', 'off'),\n",
       "             ('orig_time',\n",
       "              datetime.datetime(2023, 9, 13, 14, 9, 5, tzinfo=datetime.timezone.utc))])"
      ]
     },
     "execution_count": 69,
     "metadata": {},
     "output_type": "execute_result"
    }
   ],
   "source": [
    "paul_raw_intensity.annotations[1]\n"
   ]
  },
  {
   "cell_type": "code",
   "execution_count": 70,
   "id": "7fc1c8a5",
   "metadata": {},
   "outputs": [
    {
     "data": {
      "text/plain": [
       "OrderedDict([('onset', 235.3),\n",
       "             ('duration', 10.0),\n",
       "             ('description', 'on'),\n",
       "             ('orig_time',\n",
       "              datetime.datetime(2023, 9, 13, 14, 9, 5, tzinfo=datetime.timezone.utc))])"
      ]
     },
     "execution_count": 70,
     "metadata": {},
     "output_type": "execute_result"
    }
   ],
   "source": [
    "paul_raw_intensity.annotations[2]"
   ]
  },
  {
   "cell_type": "code",
   "execution_count": 74,
   "id": "27bdbf1e",
   "metadata": {},
   "outputs": [],
   "source": [
    "import scipy.io\n",
    "data = scipy.io.loadmat(\"./paul.nirs\")\n"
   ]
  },
  {
   "cell_type": "code",
   "execution_count": 75,
   "id": "566336eb",
   "metadata": {},
   "outputs": [],
   "source": [
    "events = data['StimDesign'][0][0][1].flatten()\n"
   ]
  },
  {
   "cell_type": "code",
   "execution_count": 76,
   "id": "7f55a9c8",
   "metadata": {},
   "outputs": [
    {
     "data": {
      "text/plain": [
       "array([235.2, 275.4, 301.3, 349.6, 383.3, 444.3])"
      ]
     },
     "execution_count": 76,
     "metadata": {},
     "output_type": "execute_result"
    }
   ],
   "source": [
    "events"
   ]
  },
  {
   "cell_type": "code",
   "execution_count": 78,
   "id": "cafe22e3",
   "metadata": {},
   "outputs": [
    {
     "data": {
      "text/plain": [
       "array([40.2, 25.9, 48.3, 33.7, 61. ])"
      ]
     },
     "execution_count": 78,
     "metadata": {},
     "output_type": "execute_result"
    }
   ],
   "source": [
    "durs = events[1:] - events[:-1]\n",
    "durs"
   ]
  },
  {
   "cell_type": "code",
   "execution_count": 79,
   "id": "e077953a",
   "metadata": {},
   "outputs": [],
   "source": [
    "timings = data['t'].flatten()\n"
   ]
  },
  {
   "cell_type": "code",
   "execution_count": 80,
   "id": "e1b2fc31",
   "metadata": {},
   "outputs": [
    {
     "data": {
      "text/plain": [
       "array([0.000e+00, 1.000e-01, 2.000e-01, ..., 4.838e+02, 4.839e+02,\n",
       "       4.840e+02])"
      ]
     },
     "execution_count": 80,
     "metadata": {},
     "output_type": "execute_result"
    }
   ],
   "source": [
    "timings"
   ]
  },
  {
   "cell_type": "code",
   "execution_count": 81,
   "id": "1f2a6b18",
   "metadata": {},
   "outputs": [
    {
     "data": {
      "text/plain": [
       "4841"
      ]
     },
     "execution_count": 81,
     "metadata": {},
     "output_type": "execute_result"
    }
   ],
   "source": [
    "len(timings)"
   ]
  },
  {
   "cell_type": "code",
   "execution_count": 82,
   "id": "ad7a9ff4",
   "metadata": {},
   "outputs": [
    {
     "data": {
      "text/plain": [
       "array([0. , 0.1, 0.2, 0.3, 0.4])"
      ]
     },
     "execution_count": 82,
     "metadata": {},
     "output_type": "execute_result"
    }
   ],
   "source": [
    "timings[:5]\n"
   ]
  },
  {
   "cell_type": "code",
   "execution_count": 83,
   "id": "1b082c10",
   "metadata": {},
   "outputs": [],
   "source": [
    "on_off = np.zeros_like(timings)\n",
    "events_sec = np.array([np.where(e==timings)[0][0] for e in events])\n"
   ]
  },
  {
   "cell_type": "code",
   "execution_count": 84,
   "id": "d113a9d0",
   "metadata": {},
   "outputs": [
    {
     "data": {
      "text/plain": [
       "array([2352, 2754, 3013, 3496, 3833, 4443])"
      ]
     },
     "execution_count": 84,
     "metadata": {},
     "output_type": "execute_result"
    }
   ],
   "source": [
    "events_sec"
   ]
  },
  {
   "cell_type": "code",
   "execution_count": 85,
   "id": "ab706a9e",
   "metadata": {},
   "outputs": [
    {
     "data": {
      "text/plain": [
       "(array([2352]),)"
      ]
     },
     "execution_count": 85,
     "metadata": {},
     "output_type": "execute_result"
    }
   ],
   "source": [
    "np.where(events[0]==timings)"
   ]
  },
  {
   "cell_type": "code",
   "execution_count": 86,
   "id": "f37d0c36",
   "metadata": {},
   "outputs": [
    {
     "data": {
      "text/plain": [
       "235.2"
      ]
     },
     "execution_count": 86,
     "metadata": {},
     "output_type": "execute_result"
    }
   ],
   "source": [
    "timings[2352]"
   ]
  },
  {
   "cell_type": "code",
   "execution_count": 87,
   "id": "ca8c4746",
   "metadata": {},
   "outputs": [],
   "source": [
    "events_sec = np.concatenate((events_sec[:2], events_sec[3:]))\n"
   ]
  },
  {
   "cell_type": "code",
   "execution_count": 88,
   "id": "c0701dfe",
   "metadata": {},
   "outputs": [
    {
     "data": {
      "text/plain": [
       "array([2352, 2754, 3496, 3833, 4443])"
      ]
     },
     "execution_count": 88,
     "metadata": {},
     "output_type": "execute_result"
    }
   ],
   "source": [
    "events_sec"
   ]
  },
  {
   "cell_type": "code",
   "execution_count": 90,
   "id": "e9bcd608",
   "metadata": {},
   "outputs": [
    {
     "data": {
      "text/plain": [
       "array([0. , 0.1, 0.2, 0.3, 0.4, 0.5, 0.6, 0.7, 0.8, 0.9])"
      ]
     },
     "execution_count": 90,
     "metadata": {},
     "output_type": "execute_result"
    }
   ],
   "source": [
    "paul_raw_haemo.times[:10]"
   ]
  },
  {
   "cell_type": "code",
   "execution_count": 91,
   "id": "c4f8fc15",
   "metadata": {},
   "outputs": [],
   "source": [
    "data_subset = raw_haemo.copy().pick(picks=range(2))\n"
   ]
  },
  {
   "cell_type": "code",
   "execution_count": 92,
   "id": "2e4812b0",
   "metadata": {},
   "outputs": [
    {
     "data": {
      "text/html": [
       "<table class=\"table table-hover table-striped table-sm table-responsive small\">\n",
       "    <tr>\n",
       "        <th>Measurement date</th>\n",
       "        \n",
       "        <td>November 02, 2019  13:16:16 GMT</td>\n",
       "        \n",
       "    </tr>\n",
       "    <tr>\n",
       "        <th>Experimenter</th>\n",
       "        \n",
       "        <td>Unknown</td>\n",
       "        \n",
       "    </tr>\n",
       "        <th>Participant</th>\n",
       "        \n",
       "            \n",
       "            <td>P1</td>\n",
       "            \n",
       "        \n",
       "    </tr>\n",
       "    <tr>\n",
       "        <th>Digitized points</th>\n",
       "        \n",
       "        <td>31 points</td>\n",
       "        \n",
       "    </tr>\n",
       "    <tr>\n",
       "        <th>Good channels</th>\n",
       "        <td>1 Oxyhemoglobin, 1 Deoxyhemoglobin</td>\n",
       "    </tr>\n",
       "    <tr>\n",
       "        <th>Bad channels</th>\n",
       "        <td>None</td>\n",
       "    </tr>\n",
       "    <tr>\n",
       "        <th>EOG channels</th>\n",
       "        <td>Not available</td>\n",
       "    </tr>\n",
       "    <tr>\n",
       "        <th>ECG channels</th>\n",
       "        <td>Not available</td>\n",
       "    \n",
       "    <tr>\n",
       "        <th>Sampling frequency</th>\n",
       "        <td>0.70 Hz</td>\n",
       "    </tr>\n",
       "    \n",
       "    \n",
       "    <tr>\n",
       "        <th>Highpass</th>\n",
       "        <td>0.00 Hz</td>\n",
       "    </tr>\n",
       "    \n",
       "    \n",
       "    <tr>\n",
       "        <th>Lowpass</th>\n",
       "        <td>0.35 Hz</td>\n",
       "    </tr>\n",
       "    \n",
       "    \n",
       "    \n",
       "    <tr>\n",
       "        <th>Filenames</th>\n",
       "        <td>Participant-1</td>\n",
       "    </tr>\n",
       "    \n",
       "    <tr>\n",
       "        <th>Duration</th>\n",
       "        <td>00:49:33 (HH:MM:SS)</td>\n",
       "    </tr>\n",
       "</table>"
      ],
      "text/plain": [
       "<RawNIRX | Participant-1, 2 x 2082 (2972.9 s), ~54 kB, data loaded>"
      ]
     },
     "execution_count": 92,
     "metadata": {},
     "output_type": "execute_result"
    }
   ],
   "source": [
    "data_subset"
   ]
  },
  {
   "cell_type": "code",
   "execution_count": 93,
   "id": "172a3c41",
   "metadata": {},
   "outputs": [
    {
     "data": {
      "text/html": [
       "<table class=\"table table-hover table-striped table-sm table-responsive small\">\n",
       "    <tr>\n",
       "        <th>Measurement date</th>\n",
       "        \n",
       "        <td>September 13, 2023  14:09:05 GMT</td>\n",
       "        \n",
       "    </tr>\n",
       "    <tr>\n",
       "        <th>Experimenter</th>\n",
       "        \n",
       "        <td>Unknown</td>\n",
       "        \n",
       "    </tr>\n",
       "        <th>Participant</th>\n",
       "        \n",
       "            \n",
       "        \n",
       "    </tr>\n",
       "    <tr>\n",
       "        <th>Digitized points</th>\n",
       "        \n",
       "        <td>35 points</td>\n",
       "        \n",
       "    </tr>\n",
       "    <tr>\n",
       "        <th>Good channels</th>\n",
       "        <td>32 fNIRS (CW amplitude)</td>\n",
       "    </tr>\n",
       "    <tr>\n",
       "        <th>Bad channels</th>\n",
       "        <td>None</td>\n",
       "    </tr>\n",
       "    <tr>\n",
       "        <th>EOG channels</th>\n",
       "        <td>Not available</td>\n",
       "    </tr>\n",
       "    <tr>\n",
       "        <th>ECG channels</th>\n",
       "        <td>Not available</td>\n",
       "    \n",
       "    <tr>\n",
       "        <th>Sampling frequency</th>\n",
       "        <td>10.00 Hz</td>\n",
       "    </tr>\n",
       "    \n",
       "    \n",
       "    <tr>\n",
       "        <th>Highpass</th>\n",
       "        <td>0.00 Hz</td>\n",
       "    </tr>\n",
       "    \n",
       "    \n",
       "    <tr>\n",
       "        <th>Lowpass</th>\n",
       "        <td>5.00 Hz</td>\n",
       "    </tr>\n",
       "    \n",
       "    \n",
       "    \n",
       "    <tr>\n",
       "        <th>Filenames</th>\n",
       "        <td>paul2.snirf</td>\n",
       "    </tr>\n",
       "    \n",
       "    <tr>\n",
       "        <th>Duration</th>\n",
       "        <td>00:08:04 (HH:MM:SS)</td>\n",
       "    </tr>\n",
       "</table>"
      ],
      "text/plain": [
       "<RawSNIRF | paul2.snirf, 32 x 4841 (484.0 s), ~49 kB, data not loaded>"
      ]
     },
     "execution_count": 93,
     "metadata": {},
     "output_type": "execute_result"
    }
   ],
   "source": [
    "paul_raw_intensity"
   ]
  },
  {
   "cell_type": "code",
   "execution_count": 94,
   "id": "273b50ae",
   "metadata": {},
   "outputs": [],
   "source": [
    "design_matrix = make_first_level_design_matrix(raw_haemo,\n",
    "                                               drift_model='cosine',\n",
    "                                               high_pass=0.005,  # Must be specified per experiment\n",
    "                                               hrf_model='spm',\n",
    "                                               stim_dur=5.0)"
   ]
  },
  {
   "cell_type": "code",
   "execution_count": 99,
   "id": "ac4f598e",
   "metadata": {},
   "outputs": [
    {
     "data": {
      "text/plain": [
       "2082"
      ]
     },
     "execution_count": 99,
     "metadata": {},
     "output_type": "execute_result"
    }
   ],
   "source": [
    "len(raw_haemo.times)"
   ]
  },
  {
   "cell_type": "code",
   "execution_count": 100,
   "id": "74b5357c",
   "metadata": {},
   "outputs": [
    {
     "data": {
      "text/plain": [
       "(2082, 33)"
      ]
     },
     "execution_count": 100,
     "metadata": {},
     "output_type": "execute_result"
    }
   ],
   "source": [
    "design_matrix.shape"
   ]
  },
  {
   "cell_type": "code",
   "execution_count": 101,
   "id": "dec327de",
   "metadata": {},
   "outputs": [
    {
     "data": {
      "image/png": "[encoded data removed]",
      "text/plain": [
       "<Figure size 720x432 with 1 Axes>"
      ]
     },
     "metadata": {
      "needs_background": "light"
     },
     "output_type": "display_data"
    }
   ],
   "source": [
    "fig, ax1 = plt.subplots(figsize=(10, 6), nrows=1, ncols=1)\n",
    "fig = plot_design_matrix(design_matrix, ax=ax1)"
   ]
  },
  {
   "cell_type": "code",
   "execution_count": 108,
   "id": "86af4e62",
   "metadata": {},
   "outputs": [
    {
     "name": "stdout",
     "output_type": "stream",
     "text": [
      "Used Annotations descriptions: ['Control', 'Tapping_Left', 'Tapping_Right']\n"
     ]
    },
    {
     "data": {
      "text/plain": [
       "Text(0, 0.5, 'Amplitude')"
      ]
     },
     "execution_count": 108,
     "metadata": {},
     "output_type": "execute_result"
    },
    {
     "data": {
      "image/png": "[encoded data removed]",
      "text/plain": [
       "<Figure size 432x288 with 1 Axes>"
      ]
     },
     "metadata": {
      "needs_background": "light"
     },
     "output_type": "display_data"
    }
   ],
   "source": [
    "s = mne_nirs.experimental_design.create_boxcar(raw_intensity, stim_dur=5.0)\n",
    "plt.plot(raw_intensity.times, s[:, 1]) # stimulus\n",
    "# plt.plot(design_matrix['Tapping_Left']) # expected response\n",
    "plt.xlim(180, 300)\n",
    "# plt.legend([\"Stimulus\", \"Expected Response\"])\n",
    "plt.xlabel(\"Time (s)\")\n",
    "plt.ylabel(\"Amplitude\")"
   ]
  },
  {
   "cell_type": "code",
   "execution_count": 107,
   "id": "768edd45",
   "metadata": {},
   "outputs": [
    {
     "data": {
      "text/plain": [
       "0.830238015357182"
      ]
     },
     "execution_count": 107,
     "metadata": {},
     "output_type": "execute_result"
    }
   ],
   "source": [
    "design_matrix['Tapping_Left'][220]"
   ]
  },
  {
   "cell_type": "code",
   "execution_count": 109,
   "id": "69fe9f65",
   "metadata": {},
   "outputs": [
    {
     "data": {
      "text/plain": [
       "Index(['Control', 'Tapping_Left', 'Tapping_Right', 'drift_1', 'drift_2',\n",
       "       'drift_3', 'drift_4', 'drift_5', 'drift_6', 'drift_7', 'drift_8',\n",
       "       'drift_9', 'drift_10', 'drift_11', 'drift_12', 'drift_13', 'drift_14',\n",
       "       'drift_15', 'drift_16', 'drift_17', 'drift_18', 'drift_19', 'drift_20',\n",
       "       'drift_21', 'drift_22', 'drift_23', 'drift_24', 'drift_25', 'drift_26',\n",
       "       'drift_27', 'drift_28', 'drift_29', 'constant'],\n",
       "      dtype='object')"
      ]
     },
     "execution_count": 109,
     "metadata": {},
     "output_type": "execute_result"
    }
   ],
   "source": [
    "design_matrix.keys()"
   ]
  },
  {
   "cell_type": "code",
   "execution_count": 117,
   "id": "2bc53d6f",
   "metadata": {},
   "outputs": [
    {
     "data": {
      "text/plain": [
       "[<matplotlib.lines.Line2D at 0x2b0a71dc0>]"
      ]
     },
     "execution_count": 117,
     "metadata": {},
     "output_type": "execute_result"
    },
    {
     "data": {
      "image/png": "[encoded data removed]",
      "text/plain": [
       "<Figure size 432x288 with 1 Axes>"
      ]
     },
     "metadata": {
      "needs_background": "light"
     },
     "output_type": "display_data"
    }
   ],
   "source": [
    "plt.plot(design_matrix[\"Tapping_Left\"][:500])"
   ]
  },
  {
   "cell_type": "code",
   "execution_count": 118,
   "id": "60254cdf",
   "metadata": {},
   "outputs": [],
   "source": [
    "data_subset = raw_haemo.copy().pick(picks=range(2))\n",
    "glm_est = run_glm(data_subset, design_matrix)"
   ]
  },
  {
   "cell_type": "code",
   "execution_count": 123,
   "id": "e1c45391",
   "metadata": {},
   "outputs": [],
   "source": [
    "est = glm_est.to_dataframe()"
   ]
  },
  {
   "cell_type": "code",
   "execution_count": 124,
   "id": "23cafb09",
   "metadata": {},
   "outputs": [
    {
     "data": {
      "text/html": [
       "<div>\n",
       "<style scoped>\n",
       "    .dataframe tbody tr th:only-of-type {\n",
       "        vertical-align: middle;\n",
       "    }\n",
       "\n",
       "    .dataframe tbody tr th {\n",
       "        vertical-align: top;\n",
       "    }\n",
       "\n",
       "    .dataframe thead th {\n",
       "        text-align: right;\n",
       "    }\n",
       "</style>\n",
       "<table border=\"1\" class=\"dataframe\">\n",
       "  <thead>\n",
       "    <tr style=\"text-align: right;\">\n",
       "      <th>variable</th>\n",
       "      <th>Condition</th>\n",
       "      <th>df</th>\n",
       "      <th>mse</th>\n",
       "      <th>p_value</th>\n",
       "      <th>se</th>\n",
       "      <th>t</th>\n",
       "      <th>theta</th>\n",
       "      <th>Source</th>\n",
       "      <th>Detector</th>\n",
       "      <th>Chroma</th>\n",
       "      <th>Significant</th>\n",
       "      <th>ch_name</th>\n",
       "    </tr>\n",
       "  </thead>\n",
       "  <tbody>\n",
       "    <tr>\n",
       "      <th>0</th>\n",
       "      <td>Control</td>\n",
       "      <td>33.0</td>\n",
       "      <td>1.207667e-10</td>\n",
       "      <td>7.225389e-01</td>\n",
       "      <td>2.317785e-06</td>\n",
       "      <td>0.358114</td>\n",
       "      <td>8.300307e-07</td>\n",
       "      <td>1</td>\n",
       "      <td>1</td>\n",
       "      <td>hbo</td>\n",
       "      <td>False</td>\n",
       "      <td>S1_D1 hbo</td>\n",
       "    </tr>\n",
       "    <tr>\n",
       "      <th>1</th>\n",
       "      <td>Tapping_Left</td>\n",
       "      <td>33.0</td>\n",
       "      <td>1.207667e-10</td>\n",
       "      <td>3.284273e-03</td>\n",
       "      <td>2.321888e-06</td>\n",
       "      <td>3.169791</td>\n",
       "      <td>7.359901e-06</td>\n",
       "      <td>1</td>\n",
       "      <td>1</td>\n",
       "      <td>hbo</td>\n",
       "      <td>True</td>\n",
       "      <td>S1_D1 hbo</td>\n",
       "    </tr>\n",
       "    <tr>\n",
       "      <th>2</th>\n",
       "      <td>Tapping_Right</td>\n",
       "      <td>33.0</td>\n",
       "      <td>1.207667e-10</td>\n",
       "      <td>1.739907e-10</td>\n",
       "      <td>2.322691e-06</td>\n",
       "      <td>9.074154</td>\n",
       "      <td>2.107646e-05</td>\n",
       "      <td>1</td>\n",
       "      <td>1</td>\n",
       "      <td>hbo</td>\n",
       "      <td>True</td>\n",
       "      <td>S1_D1 hbo</td>\n",
       "    </tr>\n",
       "    <tr>\n",
       "      <th>3</th>\n",
       "      <td>constant</td>\n",
       "      <td>33.0</td>\n",
       "      <td>1.207667e-10</td>\n",
       "      <td>4.498733e-02</td>\n",
       "      <td>5.260490e-07</td>\n",
       "      <td>-2.083923</td>\n",
       "      <td>-1.096246e-06</td>\n",
       "      <td>1</td>\n",
       "      <td>1</td>\n",
       "      <td>hbo</td>\n",
       "      <td>True</td>\n",
       "      <td>S1_D1 hbo</td>\n",
       "    </tr>\n",
       "    <tr>\n",
       "      <th>4</th>\n",
       "      <td>drift_1</td>\n",
       "      <td>33.0</td>\n",
       "      <td>1.207667e-10</td>\n",
       "      <td>2.020770e-20</td>\n",
       "      <td>2.196767e-05</td>\n",
       "      <td>20.616079</td>\n",
       "      <td>4.528873e-04</td>\n",
       "      <td>1</td>\n",
       "      <td>1</td>\n",
       "      <td>hbo</td>\n",
       "      <td>True</td>\n",
       "      <td>S1_D1 hbo</td>\n",
       "    </tr>\n",
       "    <tr>\n",
       "      <th>...</th>\n",
       "      <td>...</td>\n",
       "      <td>...</td>\n",
       "      <td>...</td>\n",
       "      <td>...</td>\n",
       "      <td>...</td>\n",
       "      <td>...</td>\n",
       "      <td>...</td>\n",
       "      <td>...</td>\n",
       "      <td>...</td>\n",
       "      <td>...</td>\n",
       "      <td>...</td>\n",
       "      <td>...</td>\n",
       "    </tr>\n",
       "    <tr>\n",
       "      <th>61</th>\n",
       "      <td>drift_5</td>\n",
       "      <td>33.0</td>\n",
       "      <td>9.608925e-12</td>\n",
       "      <td>3.028197e-01</td>\n",
       "      <td>6.205099e-06</td>\n",
       "      <td>-1.046754</td>\n",
       "      <td>-6.495213e-06</td>\n",
       "      <td>1</td>\n",
       "      <td>1</td>\n",
       "      <td>hbr</td>\n",
       "      <td>False</td>\n",
       "      <td>S1_D1 hbr</td>\n",
       "    </tr>\n",
       "    <tr>\n",
       "      <th>62</th>\n",
       "      <td>drift_6</td>\n",
       "      <td>33.0</td>\n",
       "      <td>9.608925e-12</td>\n",
       "      <td>5.397096e-11</td>\n",
       "      <td>6.196291e-06</td>\n",
       "      <td>9.525077</td>\n",
       "      <td>5.902014e-05</td>\n",
       "      <td>1</td>\n",
       "      <td>1</td>\n",
       "      <td>hbr</td>\n",
       "      <td>True</td>\n",
       "      <td>S1_D1 hbr</td>\n",
       "    </tr>\n",
       "    <tr>\n",
       "      <th>63</th>\n",
       "      <td>drift_7</td>\n",
       "      <td>33.0</td>\n",
       "      <td>9.608925e-12</td>\n",
       "      <td>5.399978e-04</td>\n",
       "      <td>6.213903e-06</td>\n",
       "      <td>-3.832409</td>\n",
       "      <td>-2.381422e-05</td>\n",
       "      <td>1</td>\n",
       "      <td>1</td>\n",
       "      <td>hbr</td>\n",
       "      <td>True</td>\n",
       "      <td>S1_D1 hbr</td>\n",
       "    </tr>\n",
       "    <tr>\n",
       "      <th>64</th>\n",
       "      <td>drift_8</td>\n",
       "      <td>33.0</td>\n",
       "      <td>9.608925e-12</td>\n",
       "      <td>6.614204e-01</td>\n",
       "      <td>6.204205e-06</td>\n",
       "      <td>0.441933</td>\n",
       "      <td>2.741843e-06</td>\n",
       "      <td>1</td>\n",
       "      <td>1</td>\n",
       "      <td>hbr</td>\n",
       "      <td>False</td>\n",
       "      <td>S1_D1 hbr</td>\n",
       "    </tr>\n",
       "    <tr>\n",
       "      <th>65</th>\n",
       "      <td>drift_9</td>\n",
       "      <td>33.0</td>\n",
       "      <td>9.608925e-12</td>\n",
       "      <td>2.546691e-01</td>\n",
       "      <td>6.192934e-06</td>\n",
       "      <td>1.159262</td>\n",
       "      <td>7.179233e-06</td>\n",
       "      <td>1</td>\n",
       "      <td>1</td>\n",
       "      <td>hbr</td>\n",
       "      <td>False</td>\n",
       "      <td>S1_D1 hbr</td>\n",
       "    </tr>\n",
       "  </tbody>\n",
       "</table>\n",
       "<p>66 rows × 12 columns</p>\n",
       "</div>"
      ],
      "text/plain": [
       "variable      Condition    df           mse       p_value            se  \\\n",
       "0               Control  33.0  1.207667e-10  7.225389e-01  2.317785e-06   \n",
       "1          Tapping_Left  33.0  1.207667e-10  3.284273e-03  2.321888e-06   \n",
       "2         Tapping_Right  33.0  1.207667e-10  1.739907e-10  2.322691e-06   \n",
       "3              constant  33.0  1.207667e-10  4.498733e-02  5.260490e-07   \n",
       "4               drift_1  33.0  1.207667e-10  2.020770e-20  2.196767e-05   \n",
       "..                  ...   ...           ...           ...           ...   \n",
       "61              drift_5  33.0  9.608925e-12  3.028197e-01  6.205099e-06   \n",
       "62              drift_6  33.0  9.608925e-12  5.397096e-11  6.196291e-06   \n",
       "63              drift_7  33.0  9.608925e-12  5.399978e-04  6.213903e-06   \n",
       "64              drift_8  33.0  9.608925e-12  6.614204e-01  6.204205e-06   \n",
       "65              drift_9  33.0  9.608925e-12  2.546691e-01  6.192934e-06   \n",
       "\n",
       "variable          t         theta Source Detector Chroma  Significant  \\\n",
       "0          0.358114  8.300307e-07      1        1    hbo        False   \n",
       "1          3.169791  7.359901e-06      1        1    hbo         True   \n",
       "2          9.074154  2.107646e-05      1        1    hbo         True   \n",
       "3         -2.083923 -1.096246e-06      1        1    hbo         True   \n",
       "4         20.616079  4.528873e-04      1        1    hbo         True   \n",
       "..              ...           ...    ...      ...    ...          ...   \n",
       "61        -1.046754 -6.495213e-06      1        1    hbr        False   \n",
       "62         9.525077  5.902014e-05      1        1    hbr         True   \n",
       "63        -3.832409 -2.381422e-05      1        1    hbr         True   \n",
       "64         0.441933  2.741843e-06      1        1    hbr        False   \n",
       "65         1.159262  7.179233e-06      1        1    hbr        False   \n",
       "\n",
       "variable    ch_name  \n",
       "0         S1_D1 hbo  \n",
       "1         S1_D1 hbo  \n",
       "2         S1_D1 hbo  \n",
       "3         S1_D1 hbo  \n",
       "4         S1_D1 hbo  \n",
       "..              ...  \n",
       "61        S1_D1 hbr  \n",
       "62        S1_D1 hbr  \n",
       "63        S1_D1 hbr  \n",
       "64        S1_D1 hbr  \n",
       "65        S1_D1 hbr  \n",
       "\n",
       "[66 rows x 12 columns]"
      ]
     },
     "execution_count": 124,
     "metadata": {},
     "output_type": "execute_result"
    }
   ],
   "source": [
    "est"
   ]
  },
  {
   "cell_type": "code",
   "execution_count": 125,
   "id": "732f7d31",
   "metadata": {},
   "outputs": [
    {
     "data": {
      "text/plain": [
       "(2082, 33)"
      ]
     },
     "execution_count": 125,
     "metadata": {},
     "output_type": "execute_result"
    }
   ],
   "source": [
    "design_matrix.shape"
   ]
  },
  {
   "cell_type": "code",
   "execution_count": 129,
   "id": "b0270b27",
   "metadata": {},
   "outputs": [
    {
     "data": {
      "text/plain": [
       "['S1_D1 hbo',\n",
       " 'S1_D2 hbo',\n",
       " 'S1_D3 hbo',\n",
       " 'S1_D4 hbo',\n",
       " 'S2_D1 hbo',\n",
       " 'S2_D2 hbo',\n",
       " 'S2_D3 hbo',\n",
       " 'S2_D4 hbo',\n",
       " 'S3_D5 hbo',\n",
       " 'S3_D6 hbo',\n",
       " 'S3_D7 hbo',\n",
       " 'S3_D8 hbo',\n",
       " 'S4_D5 hbo',\n",
       " 'S4_D6 hbo',\n",
       " 'S4_D7 hbo',\n",
       " 'S4_D8 hbo',\n",
       " 'S1_D1 hbr',\n",
       " 'S1_D2 hbr',\n",
       " 'S1_D3 hbr',\n",
       " 'S1_D4 hbr',\n",
       " 'S2_D1 hbr',\n",
       " 'S2_D2 hbr',\n",
       " 'S2_D3 hbr',\n",
       " 'S2_D4 hbr',\n",
       " 'S3_D5 hbr',\n",
       " 'S3_D6 hbr',\n",
       " 'S3_D7 hbr',\n",
       " 'S3_D8 hbr',\n",
       " 'S4_D5 hbr',\n",
       " 'S4_D6 hbr',\n",
       " 'S4_D7 hbr',\n",
       " 'S4_D8 hbr']"
      ]
     },
     "execution_count": 129,
     "metadata": {},
     "output_type": "execute_result"
    }
   ],
   "source": [
    "paul_raw_haemo.ch_names"
   ]
  },
  {
   "cell_type": "code",
   "execution_count": 130,
   "id": "715f6156",
   "metadata": {},
   "outputs": [
    {
     "data": {
      "text/plain": [
       "32"
      ]
     },
     "execution_count": 130,
     "metadata": {},
     "output_type": "execute_result"
    }
   ],
   "source": [
    "len(paul_raw_haemo.ch_names)"
   ]
  },
  {
   "cell_type": "code",
   "execution_count": 131,
   "id": "b654ea72",
   "metadata": {},
   "outputs": [
    {
     "data": {
      "text/plain": [
       "['S1_D1 735',\n",
       " 'S1_D2 735',\n",
       " 'S1_D3 735',\n",
       " 'S1_D4 735',\n",
       " 'S2_D1 735',\n",
       " 'S2_D2 735',\n",
       " 'S2_D3 735',\n",
       " 'S2_D4 735',\n",
       " 'S3_D5 735',\n",
       " 'S3_D6 735',\n",
       " 'S3_D7 735',\n",
       " 'S3_D8 735',\n",
       " 'S4_D5 735',\n",
       " 'S4_D6 735',\n",
       " 'S4_D7 735',\n",
       " 'S4_D8 735',\n",
       " 'S1_D1 850',\n",
       " 'S1_D2 850',\n",
       " 'S1_D3 850',\n",
       " 'S1_D4 850',\n",
       " 'S2_D1 850',\n",
       " 'S2_D2 850',\n",
       " 'S2_D3 850',\n",
       " 'S2_D4 850',\n",
       " 'S3_D5 850',\n",
       " 'S3_D6 850',\n",
       " 'S3_D7 850',\n",
       " 'S3_D8 850',\n",
       " 'S4_D5 850',\n",
       " 'S4_D6 850',\n",
       " 'S4_D7 850',\n",
       " 'S4_D8 850']"
      ]
     },
     "execution_count": 131,
     "metadata": {},
     "output_type": "execute_result"
    }
   ],
   "source": [
    "paul_raw_intensity.ch_names"
   ]
  },
  {
   "cell_type": "code",
   "execution_count": 132,
   "id": "467cdb81",
   "metadata": {},
   "outputs": [
    {
     "data": {
      "text/html": [
       "<table class=\"table table-hover table-striped table-sm table-responsive small\">\n",
       "    <tr>\n",
       "        <th>Measurement date</th>\n",
       "        \n",
       "        <td>September 13, 2023  14:09:05 GMT</td>\n",
       "        \n",
       "    </tr>\n",
       "    <tr>\n",
       "        <th>Experimenter</th>\n",
       "        \n",
       "        <td>Unknown</td>\n",
       "        \n",
       "    </tr>\n",
       "        <th>Participant</th>\n",
       "        \n",
       "            \n",
       "        \n",
       "    </tr>\n",
       "    <tr>\n",
       "        <th>Digitized points</th>\n",
       "        \n",
       "        <td>35 points</td>\n",
       "        \n",
       "    </tr>\n",
       "    <tr>\n",
       "        <th>Good channels</th>\n",
       "        <td>16 Oxyhemoglobin, 16 Deoxyhemoglobin</td>\n",
       "    </tr>\n",
       "    <tr>\n",
       "        <th>Bad channels</th>\n",
       "        <td>None</td>\n",
       "    </tr>\n",
       "    <tr>\n",
       "        <th>EOG channels</th>\n",
       "        <td>Not available</td>\n",
       "    </tr>\n",
       "    <tr>\n",
       "        <th>ECG channels</th>\n",
       "        <td>Not available</td>\n",
       "    \n",
       "    <tr>\n",
       "        <th>Sampling frequency</th>\n",
       "        <td>10.00 Hz</td>\n",
       "    </tr>\n",
       "    \n",
       "    \n",
       "    <tr>\n",
       "        <th>Highpass</th>\n",
       "        <td>0.00 Hz</td>\n",
       "    </tr>\n",
       "    \n",
       "    \n",
       "    <tr>\n",
       "        <th>Lowpass</th>\n",
       "        <td>5.00 Hz</td>\n",
       "    </tr>\n",
       "    \n",
       "    \n",
       "    \n",
       "    <tr>\n",
       "        <th>Filenames</th>\n",
       "        <td>paul2.snirf</td>\n",
       "    </tr>\n",
       "    \n",
       "    <tr>\n",
       "        <th>Duration</th>\n",
       "        <td>00:08:04 (HH:MM:SS)</td>\n",
       "    </tr>\n",
       "</table>"
      ],
      "text/plain": [
       "<RawSNIRF | paul2.snirf, 32 x 4841 (484.0 s), ~1.2 MB, data loaded>"
      ]
     },
     "execution_count": 132,
     "metadata": {},
     "output_type": "execute_result"
    }
   ],
   "source": [
    "paul_raw_haemo"
   ]
  },
  {
   "cell_type": "code",
   "execution_count": 133,
   "id": "8bbf1dac",
   "metadata": {},
   "outputs": [
    {
     "data": {
      "text/plain": [
       "<AxesSubplot:xlabel='Condition', ylabel='Theta'>"
      ]
     },
     "execution_count": 133,
     "metadata": {},
     "output_type": "execute_result"
    },
    {
     "data": {
      "image/png": "[encoded data removed]",
      "text/plain": [
       "<Figure size 720x360 with 1 Axes>"
      ]
     },
     "metadata": {
      "needs_background": "light"
     },
     "output_type": "display_data"
    }
   ],
   "source": [
    "glm_est.scatter()\n",
    "#these are the fitted theta values"
   ]
  },
  {
   "cell_type": "code",
   "execution_count": null,
   "id": "d3f2ab6c",
   "metadata": {},
   "outputs": [],
   "source": [
    "design_matrix = make_first_level_design_matrix(raw_haemo,\n",
    "                                               drift_model='cosine',\n",
    "                                               high_pass=0.005,  # Must be specified per experiment\n",
    "                                               hrf_model='spm',\n",
    "                                               stim_dur=5.0)"
   ]
  },
  {
   "cell_type": "code",
   "execution_count": 136,
   "id": "32f94a8a",
   "metadata": {},
   "outputs": [
    {
     "data": {
      "text/plain": [
       "OrderedDict([('onset', 61.824),\n",
       "             ('duration', 5.0),\n",
       "             ('description', 'Control'),\n",
       "             ('orig_time',\n",
       "              datetime.datetime(2019, 11, 2, 13, 16, 16, 567000, tzinfo=datetime.timezone.utc))])"
      ]
     },
     "execution_count": 136,
     "metadata": {},
     "output_type": "execute_result"
    }
   ],
   "source": [
    "raw_haemo.annotations[0]"
   ]
  },
  {
   "cell_type": "code",
   "execution_count": 137,
   "id": "b5c81fd3",
   "metadata": {},
   "outputs": [
    {
     "data": {
      "text/plain": [
       "<Annotations | 132 segments: counting7 (132)>"
      ]
     },
     "execution_count": 137,
     "metadata": {},
     "output_type": "execute_result"
    }
   ],
   "source": [
    "paul_raw_haemo.annotations"
   ]
  },
  {
   "cell_type": "code",
   "execution_count": 138,
   "id": "d7ca0b51",
   "metadata": {},
   "outputs": [],
   "source": [
    "test = paul_raw_haemo.copy()"
   ]
  },
  {
   "cell_type": "code",
   "execution_count": 139,
   "id": "2e71c648",
   "metadata": {},
   "outputs": [
    {
     "data": {
      "text/plain": [
       "<Annotations | 132 segments: counting7 (132)>"
      ]
     },
     "execution_count": 139,
     "metadata": {},
     "output_type": "execute_result"
    }
   ],
   "source": [
    "test.annotations"
   ]
  },
  {
   "cell_type": "code",
   "execution_count": null,
   "id": "1c7134fd",
   "metadata": {},
   "outputs": [],
   "source": [
    "test.annotations"
   ]
  },
  {
   "cell_type": "code",
   "execution_count": 140,
   "id": "0c76a037",
   "metadata": {},
   "outputs": [
    {
     "data": {
      "text/plain": [
       "{'__header__': b'MATLAB 5.0 MAT-file, Platform: Win32NT, CREATED on: Mon, 11 Sep 2023 15:33:37 GMT',\n",
       " '__version__': '1.0',\n",
       " '__globals__': [],\n",
       " 'd': array([[37722., 38173., 21970., ..., 35591., 40519., 13684.],\n",
       "        [34281., 39365., 22480., ..., 37092., 35577., 17520.],\n",
       "        [33197., 39664., 21464., ..., 36384., 34861., 19841.],\n",
       "        ...,\n",
       "        [26567., 30044., 11563., ...,  2881.,  6870.,  6762.],\n",
       "        [26552., 29947., 11562., ...,  2892.,  6844.,  6750.],\n",
       "        [26457., 29648., 11507., ...,  2893.,  6801.,  6715.]]),\n",
       " 'aux': array([[ 66.,  32.,  55., ...,  27., 105.,  92.],\n",
       "        [ 66.,  32.,  55., ...,  27., 151.,  52.],\n",
       "        [ 66.,  32.,  55., ...,  27.,   5., 212.],\n",
       "        ...,\n",
       "        [ 81.,  32.,  57., ...,  26., 253., 216.],\n",
       "        [ 81.,  32.,  57., ...,  26., 204., 165.],\n",
       "        [ 81.,  32.,  57., ...,  26., 172., 165.]]),\n",
       " 't': array([[0.000e+00],\n",
       "        [1.000e-01],\n",
       "        [2.000e-01],\n",
       "        ...,\n",
       "        [4.838e+02],\n",
       "        [4.839e+02],\n",
       "        [4.840e+02]]),\n",
       " 's': array([[0.],\n",
       "        [0.],\n",
       "        [0.],\n",
       "        ...,\n",
       "        [0.],\n",
       "        [0.],\n",
       "        [0.]]),\n",
       " 'CondNames': array([[array(['counting7'], dtype='<U9')]], dtype=object),\n",
       " 'demographics': array([[(array(['Paul'], dtype='<U4'), array(['TechEn'], dtype='<U6'), array(['Wireless'], dtype='<U8'), array(['Female'], dtype='<U6'), array(['math'], dtype='<U4'), array([], dtype='<U1'), array(['BTNIRS'], dtype='<U6'), array([], dtype='<U1'), array([], dtype='<U1'), array([], dtype='<U1'), array(['09-11-2023_15:33:37'], dtype='<U19'), array(['BTNIRS-1'], dtype='<U8'), array(['TechEn'], dtype='<U6'), array(['COM7'], dtype='<U4'))]],\n",
       "       dtype=[('SubjID', 'O'), ('Investigator', 'O'), ('Study', 'O'), ('Gender', 'O'), ('Group', 'O'), ('Age', 'O'), ('Instrument', 'O'), ('head_circumference', 'O'), ('Technician', 'O'), ('comments', 'O'), ('scan_date', 'O'), ('device', 'O'), ('manufacturer', 'O'), ('port', 'O')]),\n",
       " 'ml': array([[1., 1., 0., 1.],\n",
       "        [1., 2., 0., 1.],\n",
       "        [1., 3., 0., 1.],\n",
       "        [1., 4., 0., 1.],\n",
       "        [2., 1., 0., 1.],\n",
       "        [2., 2., 0., 1.],\n",
       "        [2., 3., 0., 1.],\n",
       "        [2., 4., 0., 1.],\n",
       "        [3., 5., 0., 1.],\n",
       "        [3., 6., 0., 1.],\n",
       "        [3., 7., 0., 1.],\n",
       "        [3., 8., 0., 1.],\n",
       "        [4., 5., 0., 1.],\n",
       "        [4., 6., 0., 1.],\n",
       "        [4., 7., 0., 1.],\n",
       "        [4., 8., 0., 1.],\n",
       "        [1., 1., 0., 2.],\n",
       "        [1., 2., 0., 2.],\n",
       "        [1., 3., 0., 2.],\n",
       "        [1., 4., 0., 2.],\n",
       "        [2., 1., 0., 2.],\n",
       "        [2., 2., 0., 2.],\n",
       "        [2., 3., 0., 2.],\n",
       "        [2., 4., 0., 2.],\n",
       "        [3., 5., 0., 2.],\n",
       "        [3., 6., 0., 2.],\n",
       "        [3., 7., 0., 2.],\n",
       "        [3., 8., 0., 2.],\n",
       "        [4., 5., 0., 2.],\n",
       "        [4., 6., 0., 2.],\n",
       "        [4., 7., 0., 2.],\n",
       "        [4., 8., 0., 2.]]),\n",
       " 'SD': array([[(array([[8.]]), array([[4.]]), array([[735., 850.]]), array([[-90.  ,  21.25,   0.  ],\n",
       "                [-30.  ,  21.25,   0.  ],\n",
       "                [ 30.  ,  21.25,   0.  ],\n",
       "                [ 90.  ,  21.25,   0.  ]]), array([[-105.,  -20.,    0.],\n",
       "                [ -75.,  -20.,    0.],\n",
       "                [ -45.,  -20.,    0.],\n",
       "                [ -15.,  -20.,    0.],\n",
       "                [  15.,  -20.,    0.],\n",
       "                [  45.,  -20.,    0.],\n",
       "                [  75.,  -20.,    0.],\n",
       "                [ 105.,  -20.,    0.]]), array([[-60.7226 ,  64.7282 ,   3.2168 ],\n",
       "                [-22.6589 ,  62.7189 ,  57.5756 ],\n",
       "                [ 60.8507 ,  64.8654 ,   3.29659],\n",
       "                [ 22.9341 ,  63.4655 ,  58.6842 ]]), array([[-46.4364,  55.2209,  43.0859],\n",
       "                [-40.1774,  72.0263,  29.1421],\n",
       "                [-32.9388,  85.9934,  14.1335],\n",
       "                [-16.7866,  87.6089,  25.716 ],\n",
       "                [ 46.4549,  55.2425,  43.1166],\n",
       "                [ 40.9685,  73.4202,  30.3797],\n",
       "                [ 32.9716,  86.0781,  14.1813],\n",
       "                [ 16.7946,  87.6501,  25.7443]]), array(['mm'], dtype='<U2'), array([[1., 1., 0., 1.],\n",
       "                [1., 2., 0., 1.],\n",
       "                [1., 3., 0., 1.],\n",
       "                [1., 4., 0., 1.],\n",
       "                [2., 1., 0., 1.],\n",
       "                [2., 2., 0., 1.],\n",
       "                [2., 3., 0., 1.],\n",
       "                [2., 4., 0., 1.],\n",
       "                [3., 5., 0., 1.],\n",
       "                [3., 6., 0., 1.],\n",
       "                [3., 7., 0., 1.],\n",
       "                [3., 8., 0., 1.],\n",
       "                [4., 5., 0., 1.],\n",
       "                [4., 6., 0., 1.],\n",
       "                [4., 7., 0., 1.],\n",
       "                [4., 8., 0., 1.],\n",
       "                [1., 1., 0., 2.],\n",
       "                [1., 2., 0., 2.],\n",
       "                [1., 3., 0., 2.],\n",
       "                [1., 4., 0., 2.],\n",
       "                [2., 1., 0., 2.],\n",
       "                [2., 2., 0., 2.],\n",
       "                [2., 3., 0., 2.],\n",
       "                [2., 4., 0., 2.],\n",
       "                [3., 5., 0., 2.],\n",
       "                [3., 6., 0., 2.],\n",
       "                [3., 7., 0., 2.],\n",
       "                [3., 8., 0., 2.],\n",
       "                [4., 5., 0., 2.],\n",
       "                [4., 6., 0., 2.],\n",
       "                [4., 7., 0., 2.],\n",
       "                [4., 8., 0., 2.]]))                                                                   ]],\n",
       "       dtype=[('NumDet', 'O'), ('NumSrc', 'O'), ('Lambda', 'O'), ('SrcPos', 'O'), ('DetPos', 'O'), ('SrcPos3D', 'O'), ('DetPos3D', 'O'), ('SpatialUnit', 'O'), ('MeasList', 'O')]),\n",
       " 'StimDesign': array([[(array(['counting7'], dtype='<U9'), array([[235.2, 275.4, 301.3, 349.6, 383.3, 444.3]]), array([[1., 1., 1., 1., 1., 1.]]), array([[1., 1., 1., 1., 1., 1.]]))]],\n",
       "       dtype=[('name', 'O'), ('onset', 'O'), ('dur', 'O'), ('amp', 'O')])}"
      ]
     },
     "execution_count": 140,
     "metadata": {},
     "output_type": "execute_result"
    }
   ],
   "source": [
    "data"
   ]
  },
  {
   "cell_type": "code",
   "execution_count": 141,
   "id": "e055c1e7",
   "metadata": {},
   "outputs": [
    {
     "data": {
      "text/plain": [
       "array([2352, 2754, 3496, 3833, 4443])"
      ]
     },
     "execution_count": 141,
     "metadata": {},
     "output_type": "execute_result"
    }
   ],
   "source": [
    "events_sec"
   ]
  },
  {
   "cell_type": "code",
   "execution_count": 150,
   "id": "c3e46240",
   "metadata": {},
   "outputs": [],
   "source": [
    "onsets = timings[events_sec]\n",
    "durations = onsets[1:] - onsets[:-1]\n",
    "onsets = list(onsets)\n",
    "durations = list(durations)\n",
    "durations.append(timings[-1] - onsets[-1])\n",
    "descriptions = []\n",
    "for i in range(len(onsets)):\n",
    "    if i%2==0:\n",
    "        descriptions.append(\"on\")\n",
    "    else:\n",
    "        descriptions.append(\"off\")\n",
    "    \n",
    "    \n",
    "assert len(onsets) == len(durations)\n",
    "assert len(descriptions) == len(onsets)"
   ]
  },
  {
   "cell_type": "code",
   "execution_count": 152,
   "id": "1cb9e6a3",
   "metadata": {},
   "outputs": [
    {
     "data": {
      "text/plain": [
       "['on', 'off', 'on', 'off', 'on']"
      ]
     },
     "execution_count": 152,
     "metadata": {},
     "output_type": "execute_result"
    }
   ],
   "source": [
    "descriptions"
   ]
  },
  {
   "cell_type": "code",
   "execution_count": 147,
   "id": "f1180388",
   "metadata": {},
   "outputs": [
    {
     "data": {
      "text/plain": [
       "39.69999999999999"
      ]
     },
     "execution_count": 147,
     "metadata": {},
     "output_type": "execute_result"
    }
   ],
   "source": [
    "timings[-1] - onsets[-1]"
   ]
  },
  {
   "cell_type": "code",
   "execution_count": 153,
   "id": "0fb01f97",
   "metadata": {},
   "outputs": [],
   "source": [
    "annotations = mne.Annotations(onset=onsets, duration=durations,\n",
    "            description=descriptions)\n"
   ]
  },
  {
   "cell_type": "code",
   "execution_count": 155,
   "id": "b83e1924",
   "metadata": {},
   "outputs": [
    {
     "data": {
      "text/html": [
       "<table class=\"table table-hover table-striped table-sm table-responsive small\">\n",
       "    <tr>\n",
       "        <th>Measurement date</th>\n",
       "        \n",
       "        <td>September 13, 2023  14:09:05 GMT</td>\n",
       "        \n",
       "    </tr>\n",
       "    <tr>\n",
       "        <th>Experimenter</th>\n",
       "        \n",
       "        <td>Unknown</td>\n",
       "        \n",
       "    </tr>\n",
       "        <th>Participant</th>\n",
       "        \n",
       "            \n",
       "        \n",
       "    </tr>\n",
       "    <tr>\n",
       "        <th>Digitized points</th>\n",
       "        \n",
       "        <td>35 points</td>\n",
       "        \n",
       "    </tr>\n",
       "    <tr>\n",
       "        <th>Good channels</th>\n",
       "        <td>16 Oxyhemoglobin, 16 Deoxyhemoglobin</td>\n",
       "    </tr>\n",
       "    <tr>\n",
       "        <th>Bad channels</th>\n",
       "        <td>None</td>\n",
       "    </tr>\n",
       "    <tr>\n",
       "        <th>EOG channels</th>\n",
       "        <td>Not available</td>\n",
       "    </tr>\n",
       "    <tr>\n",
       "        <th>ECG channels</th>\n",
       "        <td>Not available</td>\n",
       "    \n",
       "    <tr>\n",
       "        <th>Sampling frequency</th>\n",
       "        <td>10.00 Hz</td>\n",
       "    </tr>\n",
       "    \n",
       "    \n",
       "    <tr>\n",
       "        <th>Highpass</th>\n",
       "        <td>0.00 Hz</td>\n",
       "    </tr>\n",
       "    \n",
       "    \n",
       "    <tr>\n",
       "        <th>Lowpass</th>\n",
       "        <td>5.00 Hz</td>\n",
       "    </tr>\n",
       "    \n",
       "    \n",
       "    \n",
       "    <tr>\n",
       "        <th>Filenames</th>\n",
       "        <td>paul2.snirf</td>\n",
       "    </tr>\n",
       "    \n",
       "    <tr>\n",
       "        <th>Duration</th>\n",
       "        <td>00:08:04 (HH:MM:SS)</td>\n",
       "    </tr>\n",
       "</table>"
      ],
      "text/plain": [
       "<RawSNIRF | paul2.snirf, 32 x 4841 (484.0 s), ~1.2 MB, data loaded>"
      ]
     },
     "execution_count": 155,
     "metadata": {},
     "output_type": "execute_result"
    }
   ],
   "source": [
    "test.set_annotations(annotations)"
   ]
  },
  {
   "cell_type": "code",
   "execution_count": 156,
   "id": "c6a954f1",
   "metadata": {},
   "outputs": [
    {
     "data": {
      "text/html": [
       "<table class=\"table table-hover table-striped table-sm table-responsive small\">\n",
       "    <tr>\n",
       "        <th>Measurement date</th>\n",
       "        \n",
       "        <td>September 13, 2023  14:09:05 GMT</td>\n",
       "        \n",
       "    </tr>\n",
       "    <tr>\n",
       "        <th>Experimenter</th>\n",
       "        \n",
       "        <td>Unknown</td>\n",
       "        \n",
       "    </tr>\n",
       "        <th>Participant</th>\n",
       "        \n",
       "            \n",
       "        \n",
       "    </tr>\n",
       "    <tr>\n",
       "        <th>Digitized points</th>\n",
       "        \n",
       "        <td>35 points</td>\n",
       "        \n",
       "    </tr>\n",
       "    <tr>\n",
       "        <th>Good channels</th>\n",
       "        <td>16 Oxyhemoglobin, 16 Deoxyhemoglobin</td>\n",
       "    </tr>\n",
       "    <tr>\n",
       "        <th>Bad channels</th>\n",
       "        <td>None</td>\n",
       "    </tr>\n",
       "    <tr>\n",
       "        <th>EOG channels</th>\n",
       "        <td>Not available</td>\n",
       "    </tr>\n",
       "    <tr>\n",
       "        <th>ECG channels</th>\n",
       "        <td>Not available</td>\n",
       "    \n",
       "    <tr>\n",
       "        <th>Sampling frequency</th>\n",
       "        <td>10.00 Hz</td>\n",
       "    </tr>\n",
       "    \n",
       "    \n",
       "    <tr>\n",
       "        <th>Highpass</th>\n",
       "        <td>0.00 Hz</td>\n",
       "    </tr>\n",
       "    \n",
       "    \n",
       "    <tr>\n",
       "        <th>Lowpass</th>\n",
       "        <td>5.00 Hz</td>\n",
       "    </tr>\n",
       "    \n",
       "    \n",
       "    \n",
       "    <tr>\n",
       "        <th>Filenames</th>\n",
       "        <td>paul2.snirf</td>\n",
       "    </tr>\n",
       "    \n",
       "    <tr>\n",
       "        <th>Duration</th>\n",
       "        <td>00:08:04 (HH:MM:SS)</td>\n",
       "    </tr>\n",
       "</table>"
      ],
      "text/plain": [
       "<RawSNIRF | paul2.snirf, 32 x 4841 (484.0 s), ~1.2 MB, data loaded>"
      ]
     },
     "execution_count": 156,
     "metadata": {},
     "output_type": "execute_result"
    }
   ],
   "source": [
    "test"
   ]
  },
  {
   "cell_type": "code",
   "execution_count": 157,
   "id": "42970f17",
   "metadata": {},
   "outputs": [
    {
     "data": {
      "text/plain": [
       "<Annotations | 5 segments: off (2), on (3)>"
      ]
     },
     "execution_count": 157,
     "metadata": {},
     "output_type": "execute_result"
    }
   ],
   "source": [
    "test.annotations"
   ]
  },
  {
   "cell_type": "code",
   "execution_count": 158,
   "id": "6154a616",
   "metadata": {},
   "outputs": [],
   "source": [
    "paul_design_matrix = make_first_level_design_matrix(test,\n",
    "                                               drift_model='cosine',\n",
    "                                               high_pass=0.005,  # Must be specified per experiment\n",
    "                                               hrf_model='spm',\n",
    "                                               stim_dur=5.0)"
   ]
  },
  {
   "cell_type": "code",
   "execution_count": 160,
   "id": "64d3271c",
   "metadata": {},
   "outputs": [
    {
     "data": {
      "image/png": "[encoded data removed]",
      "text/plain": [
       "<Figure size 720x432 with 1 Axes>"
      ]
     },
     "metadata": {
      "needs_background": "light"
     },
     "output_type": "display_data"
    }
   ],
   "source": [
    "fig, ax1 = plt.subplots(figsize=(10, 6), nrows=1, ncols=1)\n",
    "fig = plot_design_matrix(paul_design_matrix, ax=ax1)"
   ]
  },
  {
   "cell_type": "code",
   "execution_count": 162,
   "id": "d4efeb4a",
   "metadata": {},
   "outputs": [],
   "source": [
    "paul_design_matrix[\"test\"] = paul_design_matrix[\"on\"]"
   ]
  },
  {
   "cell_type": "code",
   "execution_count": 163,
   "id": "8e5cef2e",
   "metadata": {},
   "outputs": [
    {
     "data": {
      "image/png": "[encoded data removed]",
      "text/plain": [
       "<Figure size 720x432 with 1 Axes>"
      ]
     },
     "metadata": {
      "needs_background": "light"
     },
     "output_type": "display_data"
    }
   ],
   "source": [
    "fig, ax1 = plt.subplots(figsize=(10, 6), nrows=1, ncols=1)\n",
    "fig = plot_design_matrix(paul_design_matrix, ax=ax1)"
   ]
  },
  {
   "cell_type": "markdown",
   "id": "fa406182",
   "metadata": {},
   "source": [
    "How do we set the high pass value?\n",
    "\n",
    "> See the nilearn documentation for recommendations on setting these values. In short, they suggest “The cutoff period (1/high_pass) should be set as the longest period between two trials of the same condition multiplied by 2. For instance, if the longest period is 32s, the high_pass frequency shall be 1/64 Hz ~ 0.016 Hz”.\n",
    "\n",
    "\n",
    "\n",
    "From ChatGPT:\n",
    "\n",
    "From your annotations, it seems like you have both \"on\" and \"off\" conditions. If only the \"on\" conditions matter for determining the high pass value, then we should only consider those. Now, the interval or period between the \"on\" conditions is what you should look at.\n",
    "\n",
    "Let's assume the \"onset\" value to be the beginning of that condition. As per your annotations:\n",
    "\n",
    "The first \"on\" event starts at 235.2.\n",
    "The second \"on\" event starts at 349.6.\n",
    "The last \"on\" event starts at 444.3.\n",
    "The period between the first and second \"on\" events: 349.6 - 235.2 = 114.4 seconds. The period between the second and last \"on\" events: 444.3 - 349.6 = 94.7 seconds.\n",
    "\n",
    "The longest period here is 114.4 seconds. To determine the high pass value, take twice this value (as per the nilearn recommendation), and then take the inverse:\n",
    "\n",
    "High pass cutoff = 1 / (2 * 114.4) = ~ 0.00437 Hz\n",
    "\n",
    "So you could set high_pass = 0.00437 in your make_first_level_design_matrix() function. However, the exact value might depend on the rest of your experiment design. This calculation only considers the \"on\" conditions and assumes that the onset values mark the beginning of these conditions. Please adjust the calculation as needed if these assumptions do not hold for your experiment design.\n",
    "\n",
    "Let's verify this math."
   ]
  },
  {
   "cell_type": "code",
   "execution_count": 182,
   "id": "4f97bd69",
   "metadata": {},
   "outputs": [
    {
     "data": {
      "text/plain": [
       "114.40000000000003"
      ]
     },
     "execution_count": 182,
     "metadata": {},
     "output_type": "execute_result"
    }
   ],
   "source": [
    "349.6 - 235.2"
   ]
  },
  {
   "cell_type": "code",
   "execution_count": 183,
   "id": "d86c5548",
   "metadata": {},
   "outputs": [
    {
     "data": {
      "text/plain": [
       "94.69999999999999"
      ]
     },
     "execution_count": 183,
     "metadata": {},
     "output_type": "execute_result"
    }
   ],
   "source": [
    "444.3 - 349.6"
   ]
  },
  {
   "cell_type": "code",
   "execution_count": 186,
   "id": "cea5bf9f",
   "metadata": {},
   "outputs": [
    {
     "data": {
      "text/plain": [
       "0.004370629370629369"
      ]
     },
     "execution_count": 186,
     "metadata": {},
     "output_type": "execute_result"
    }
   ],
   "source": [
    "high_pass = 1/(2*114.40000000000003) \n",
    "high_pass"
   ]
  },
  {
   "cell_type": "code",
   "execution_count": 179,
   "id": "9d1ed3c9",
   "metadata": {},
   "outputs": [
    {
     "data": {
      "text/plain": [
       "[40.19999999999999,\n",
       " 74.20000000000005,\n",
       " 33.69999999999999,\n",
       " 61.0,\n",
       " 39.69999999999999]"
      ]
     },
     "execution_count": 179,
     "metadata": {},
     "output_type": "execute_result"
    }
   ],
   "source": [
    "durations"
   ]
  },
  {
   "cell_type": "code",
   "execution_count": 181,
   "id": "52d5a913",
   "metadata": {},
   "outputs": [
    {
     "name": "stdout",
     "output_type": "stream",
     "text": [
      "OrderedDict([('onset', 235.2), ('duration', 40.19999999999999), ('description', 'on'), ('orig_time', None)])\n",
      "OrderedDict([('onset', 275.4), ('duration', 74.20000000000005), ('description', 'off'), ('orig_time', None)])\n",
      "OrderedDict([('onset', 349.6), ('duration', 33.69999999999999), ('description', 'on'), ('orig_time', None)])\n",
      "OrderedDict([('onset', 383.3), ('duration', 61.0), ('description', 'off'), ('orig_time', None)])\n",
      "OrderedDict([('onset', 444.3), ('duration', 39.69999999999999), ('description', 'on'), ('orig_time', None)])\n"
     ]
    },
    {
     "data": {
      "text/plain": [
       "[None, None, None, None, None]"
      ]
     },
     "execution_count": 181,
     "metadata": {},
     "output_type": "execute_result"
    }
   ],
   "source": [
    "[print(x) for x in annotations]"
   ]
  },
  {
   "cell_type": "code",
   "execution_count": 188,
   "id": "6b1a1d3d",
   "metadata": {},
   "outputs": [
    {
     "data": {
      "text/plain": [
       "33.69999999999999"
      ]
     },
     "execution_count": 188,
     "metadata": {},
     "output_type": "execute_result"
    }
   ],
   "source": [
    "stim_dur = min(durations)\n",
    "stim_dur"
   ]
  },
  {
   "cell_type": "code",
   "execution_count": 213,
   "id": "1374db11",
   "metadata": {
    "scrolled": false
   },
   "outputs": [
    {
     "name": "stdout",
     "output_type": "stream",
     "text": [
      "num_annotations = 5\n",
      "first_col_name = 'on'\n",
      "first_col_name = 'off'\n",
      "first_col_name = 'on'\n",
      "first_col_name = 'off'\n",
      "first_col_name = 'on'\n"
     ]
    },
    {
     "data": {
      "text/plain": [
       "(5, 32)"
      ]
     },
     "execution_count": 213,
     "metadata": {},
     "output_type": "execute_result"
    },
    {
     "data": {
      "image/png": "[encoded data removed]",
      "text/plain": [
       "<Figure size 720x432 with 1 Axes>"
      ]
     },
     "metadata": {
      "needs_background": "light"
     },
     "output_type": "display_data"
    },
    {
     "data": {
      "image/png": "[encoded data removed]",
      "text/plain": [
       "<Figure size 720x432 with 1 Axes>"
      ]
     },
     "metadata": {
      "needs_background": "light"
     },
     "output_type": "display_data"
    },
    {
     "data": {
      "image/png": "[encoded data removed]",
      "text/plain": [
       "<Figure size 720x432 with 1 Axes>"
      ]
     },
     "metadata": {
      "needs_background": "light"
     },
     "output_type": "display_data"
    },
    {
     "data": {
      "image/png": "[encoded data removed]",
      "text/plain": [
       "<Figure size 720x432 with 1 Axes>"
      ]
     },
     "metadata": {
      "needs_background": "light"
     },
     "output_type": "display_data"
    },
    {
     "data": {
      "image/png": "[encoded data removed]",
      "text/plain": [
       "<Figure size 720x432 with 1 Axes>"
      ]
     },
     "metadata": {
      "needs_background": "light"
     },
     "output_type": "display_data"
    }
   ],
   "source": [
    "num_annotations = len(annotations)\n",
    "print(f\"{num_annotations = }\")\n",
    "features = []\n",
    "for i in range(num_annotations):\n",
    "    including = annotations[i:i+1]\n",
    "    including_raw_haemo = paul_raw_haemo.copy()\n",
    "    including_raw_haemo.set_annotations(including)\n",
    "    including_design_matrix = make_first_level_design_matrix(including_raw_haemo,\n",
    "                                               drift_model='cosine',\n",
    "#                                                high_pass=0.005,  # Must be specified per experiment\n",
    "                                                high_pass=high_pass,\n",
    "                                               hrf_model='spm',\n",
    "                                               stim_dur=stim_dur)\n",
    "#     fig, ax1 = plt.subplots(figsize=(10, 6), nrows=1, ncols=1)\n",
    "#     fig = plot_design_matrix(including_design_matrix, ax=ax1)\n",
    "    first_col_name = including_design_matrix.columns[0]\n",
    "    print(f\"{first_col_name = }\")\n",
    "    \n",
    "    excluding = annotations[:i] + annotations[i+1:]\n",
    "    excluding_raw_haemo = paul_raw_haemo.copy()\n",
    "    excluding_raw_haemo.set_annotations(excluding)\n",
    "    excluding_design_matrix = make_first_level_design_matrix(excluding_raw_haemo,\n",
    "                                               drift_model='cosine',\n",
    "#                                                high_pass=0.005,  # Must be specified per experiment\n",
    "                                                high_pass=high_pass,\n",
    "                                               hrf_model='spm',\n",
    "#                                                stim_dur=5.0,\n",
    "                                                stim_dur=stim_dur\n",
    "                                                            )\n",
    "    excluding_design_matrix[\"isolate\"] = including_design_matrix[first_col_name]\n",
    "    fig, ax1 = plt.subplots(figsize=(10, 6), nrows=1, ncols=1)\n",
    "    fig = plot_design_matrix(excluding_design_matrix, ax=ax1)\n",
    "    glm_est = run_glm(paul_raw_haemo, excluding_design_matrix)\n",
    "    glm_est_df = glm_est.to_dataframe()\n",
    "    \n",
    "    isolated = glm_est_df[glm_est_df[\"Condition\"] == \"isolate\"]\n",
    "    thetas = isolated[\"theta\"].values\n",
    "    features.append(thetas)\n",
    "#     break\n",
    "\n",
    "features = np.array(features)\n",
    "features.shape"
   ]
  },
  {
   "cell_type": "code",
   "execution_count": 224,
   "id": "7f8ef35e",
   "metadata": {},
   "outputs": [
    {
     "data": {
      "text/plain": [
       "array([1, 0, 1, 0, 1])"
      ]
     },
     "execution_count": 224,
     "metadata": {},
     "output_type": "execute_result"
    }
   ],
   "source": [
    "from sklearn.model_selection import train_test_split\n",
    "from sklearn import svm\n",
    "\n",
    "X = features.copy()\n",
    "\n",
    "y = np.array([int(x[\"description\"] == \"on\") for x in annotations])\n",
    "y "
   ]
  },
  {
   "cell_type": "code",
   "execution_count": 225,
   "id": "33eab3af",
   "metadata": {},
   "outputs": [
    {
     "data": {
      "text/plain": [
       "((5, 32), (5,))"
      ]
     },
     "execution_count": 225,
     "metadata": {},
     "output_type": "execute_result"
    }
   ],
   "source": [
    "X.shape, y.shape"
   ]
  },
  {
   "cell_type": "code",
   "execution_count": 247,
   "id": "788744fe",
   "metadata": {},
   "outputs": [
    {
     "name": "stdout",
     "output_type": "stream",
     "text": [
      "(3, 32) (2, 32)\n"
     ]
    },
    {
     "data": {
      "text/plain": [
       "(array([1, 1]), array([0, 1]), 0.5)"
      ]
     },
     "execution_count": 247,
     "metadata": {},
     "output_type": "execute_result"
    }
   ],
   "source": [
    "from sklearn.preprocessing import StandardScaler\n",
    "from sklearn.pipeline import make_pipeline\n",
    "X_train, X_test, y_train, y_test = train_test_split(X, y, test_size=0.4, random_state=42)\n",
    "print(X_train.shape, X_test.shape)\n",
    "pipe = make_pipeline(StandardScaler(), svm.SVC())\n",
    "pipe.fit(X_train, y_train)\n",
    "pipe.predict(X_test), y_test, pipe.score(X_test, y_test)"
   ]
  },
  {
   "cell_type": "code",
   "execution_count": 257,
   "id": "908d14d9",
   "metadata": {},
   "outputs": [
    {
     "data": {
      "text/plain": [
       "(0.5, array([1, 1]))"
      ]
     },
     "execution_count": 257,
     "metadata": {},
     "output_type": "execute_result"
    }
   ],
   "source": [
    "from sklearn import preprocessing\n",
    "min_max_scaler = preprocessing.MinMaxScaler()\n",
    "scaled_X_train = min_max_scaler.fit_transform(X_train)\n",
    "scaled_X_test = min_max_scaler.fit_transform(X_test)\n",
    "clf = svm.SVC().fit(scaled_X_train, y_train)\n",
    "clf.score(scaled_X_test, y_test), clf.predict(scaled_X_test)\n"
   ]
  },
  {
   "cell_type": "code",
   "execution_count": 281,
   "id": "aca8346c",
   "metadata": {},
   "outputs": [
    {
     "data": {
      "text/plain": [
       "0.5"
      ]
     },
     "execution_count": 281,
     "metadata": {},
     "output_type": "execute_result"
    }
   ],
   "source": [
    "from sklearn.neighbors import KNeighborsClassifier\n",
    "X_train, X_test, y_train, y_test = train_test_split(X, y, test_size=0.4, random_state=104)\n",
    "scaler = StandardScaler()\n",
    "# Fit on training set.\n",
    "scaler.fit(X_train)\n",
    "\n",
    "# Transform both the training set and the test set.\n",
    "scaled_X_train = scaler.transform(X_train)\n",
    "scaled_X_test = scaler.transform(X_test)\n",
    "\n",
    "neigh = KNeighborsClassifier(n_neighbors=len(X_train))\n",
    "neigh.fit(scaled_X_train, y_train)\n",
    "neigh.score(scaled_X_test, y_test)"
   ]
  },
  {
   "cell_type": "code",
   "execution_count": 272,
   "id": "7420c418",
   "metadata": {},
   "outputs": [
    {
     "data": {
      "text/plain": [
       "(array([-5.55111512e-17, -8.32667268e-17,  8.32667268e-17,  0.00000000e+00,\n",
       "        -8.32667268e-17,  5.55111512e-17,  2.77555756e-17, -1.11022302e-16,\n",
       "        -2.77555756e-17,  0.00000000e+00, -2.77555756e-17, -5.55111512e-17,\n",
       "         5.55111512e-17,  0.00000000e+00,  0.00000000e+00, -2.77555756e-17,\n",
       "         0.00000000e+00,  2.77555756e-17,  2.77555756e-17, -5.55111512e-17,\n",
       "         5.55111512e-17, -1.11022302e-16,  8.32667268e-17,  5.55111512e-17,\n",
       "        -5.55111512e-17,  2.77555756e-17, -8.32667268e-17,  2.77555756e-17,\n",
       "        -5.55111512e-17, -5.55111512e-17, -5.55111512e-17, -2.77555756e-17]),\n",
       " array([1., 1., 1., 1., 1., 1., 1., 1., 1., 1., 1., 1., 1., 1., 1., 1., 1.,\n",
       "        1., 1., 1., 1., 1., 1., 1., 1., 1., 1., 1., 1., 1., 1., 1.]))"
      ]
     },
     "execution_count": 272,
     "metadata": {},
     "output_type": "execute_result"
    }
   ],
   "source": [
    "scaled_X_train.mean(axis=0), scaled_X_train.std(axis=0)"
   ]
  },
  {
   "cell_type": "code",
   "execution_count": 241,
   "id": "9cc578d9",
   "metadata": {},
   "outputs": [
    {
     "data": {
      "text/plain": [
       "array([[ 7.25913828e-05,  4.62622419e-06,  1.00787631e-05,\n",
       "        -4.68020499e-06, -2.70082582e-04,  1.45689699e-05,\n",
       "         1.82188481e-04,  8.90208327e-05,  6.41320882e-05,\n",
       "         1.46337244e-04,  8.75117008e-05,  3.65685815e-05,\n",
       "        -1.38981513e-04, -3.73714074e-04, -2.44514135e-04,\n",
       "        -1.75179493e-04,  6.33068267e-05,  5.79993019e-05,\n",
       "         3.27650949e-05,  3.87110895e-05, -4.84209216e-05,\n",
       "         4.84421629e-05, -1.69438734e-05,  4.79801864e-05,\n",
       "         8.54194198e-05,  6.10169821e-05, -2.28393161e-04,\n",
       "        -2.15430963e-04,  5.54555911e-05,  8.08973248e-05,\n",
       "         2.21908528e-04,  1.61172510e-04],\n",
       "       [-9.59555022e-05, -1.78191946e-05, -1.13963090e-05,\n",
       "         7.88926761e-06,  3.27964758e-04, -1.74885153e-05,\n",
       "        -2.36228527e-04, -1.19281578e-04, -8.82399535e-05,\n",
       "        -1.93604397e-04, -1.19313099e-04, -5.23265757e-05,\n",
       "         1.62312968e-04,  4.58392358e-04,  3.07013188e-04,\n",
       "         2.16390584e-04, -7.83397566e-05, -6.38221883e-05,\n",
       "        -4.17411040e-05, -4.77362159e-05,  5.18487586e-05,\n",
       "        -5.47228993e-05,  3.60807695e-05, -5.14802610e-05,\n",
       "        -8.59764893e-05, -4.83291982e-05,  2.98797453e-04,\n",
       "         2.75413848e-04, -6.03439349e-05, -9.04195096e-05,\n",
       "        -2.69213972e-04, -2.05007375e-04],\n",
       "       [ 1.99043223e-05,  5.88438404e-06,  2.15742766e-06,\n",
       "         1.73312909e-06, -8.58383041e-05,  9.87602367e-06,\n",
       "         6.00047511e-05,  3.02178522e-05,  2.32152050e-05,\n",
       "         4.54774166e-05,  2.48845178e-05,  1.25133393e-05,\n",
       "        -4.32990953e-05, -1.27861637e-04, -7.62664691e-05,\n",
       "        -5.40355802e-05,  2.52648365e-05,  2.84852683e-05,\n",
       "         1.47469944e-05,  1.91041193e-05, -1.32954909e-05,\n",
       "         2.30600678e-05,  4.14994023e-06,  2.68782526e-05,\n",
       "         4.47699632e-05,  3.94538021e-05, -6.99446153e-05,\n",
       "        -7.38717025e-05,  3.73961239e-05,  4.36273350e-05,\n",
       "         8.52159111e-05,  5.41303934e-05]])"
      ]
     },
     "execution_count": 241,
     "metadata": {},
     "output_type": "execute_result"
    }
   ],
   "source": [
    "X_train"
   ]
  },
  {
   "cell_type": "code",
   "execution_count": 233,
   "id": "c4bc993a",
   "metadata": {},
   "outputs": [
    {
     "data": {
      "text/html": [
       "<div>\n",
       "<style scoped>\n",
       "    .dataframe tbody tr th:only-of-type {\n",
       "        vertical-align: middle;\n",
       "    }\n",
       "\n",
       "    .dataframe tbody tr th {\n",
       "        vertical-align: top;\n",
       "    }\n",
       "\n",
       "    .dataframe thead th {\n",
       "        text-align: right;\n",
       "    }\n",
       "</style>\n",
       "<table border=\"1\" class=\"dataframe\">\n",
       "  <thead>\n",
       "    <tr style=\"text-align: right;\">\n",
       "      <th>variable</th>\n",
       "      <th>Condition</th>\n",
       "      <th>df</th>\n",
       "      <th>mse</th>\n",
       "      <th>p_value</th>\n",
       "      <th>se</th>\n",
       "      <th>t</th>\n",
       "      <th>theta</th>\n",
       "      <th>Source</th>\n",
       "      <th>Detector</th>\n",
       "      <th>Chroma</th>\n",
       "      <th>Significant</th>\n",
       "      <th>ch_name</th>\n",
       "    </tr>\n",
       "  </thead>\n",
       "  <tbody>\n",
       "    <tr>\n",
       "      <th>0</th>\n",
       "      <td>constant</td>\n",
       "      <td>8.0</td>\n",
       "      <td>3.386880e-08</td>\n",
       "      <td>0.002130</td>\n",
       "      <td>0.000013</td>\n",
       "      <td>4.453332</td>\n",
       "      <td>0.000059</td>\n",
       "      <td>1</td>\n",
       "      <td>1</td>\n",
       "      <td>hbo</td>\n",
       "      <td>True</td>\n",
       "      <td>S1_D1 hbo</td>\n",
       "    </tr>\n",
       "    <tr>\n",
       "      <th>1</th>\n",
       "      <td>drift_1</td>\n",
       "      <td>8.0</td>\n",
       "      <td>3.386880e-08</td>\n",
       "      <td>0.359674</td>\n",
       "      <td>0.000884</td>\n",
       "      <td>0.971668</td>\n",
       "      <td>0.000859</td>\n",
       "      <td>1</td>\n",
       "      <td>1</td>\n",
       "      <td>hbo</td>\n",
       "      <td>False</td>\n",
       "      <td>S1_D1 hbo</td>\n",
       "    </tr>\n",
       "    <tr>\n",
       "      <th>2</th>\n",
       "      <td>drift_2</td>\n",
       "      <td>8.0</td>\n",
       "      <td>3.386880e-08</td>\n",
       "      <td>0.000013</td>\n",
       "      <td>0.000770</td>\n",
       "      <td>9.447649</td>\n",
       "      <td>0.007278</td>\n",
       "      <td>1</td>\n",
       "      <td>1</td>\n",
       "      <td>hbo</td>\n",
       "      <td>True</td>\n",
       "      <td>S1_D1 hbo</td>\n",
       "    </tr>\n",
       "    <tr>\n",
       "      <th>3</th>\n",
       "      <td>drift_3</td>\n",
       "      <td>8.0</td>\n",
       "      <td>3.386880e-08</td>\n",
       "      <td>0.000025</td>\n",
       "      <td>0.000785</td>\n",
       "      <td>8.648927</td>\n",
       "      <td>0.006793</td>\n",
       "      <td>1</td>\n",
       "      <td>1</td>\n",
       "      <td>hbo</td>\n",
       "      <td>True</td>\n",
       "      <td>S1_D1 hbo</td>\n",
       "    </tr>\n",
       "    <tr>\n",
       "      <th>4</th>\n",
       "      <td>drift_4</td>\n",
       "      <td>8.0</td>\n",
       "      <td>3.386880e-08</td>\n",
       "      <td>0.000026</td>\n",
       "      <td>0.000731</td>\n",
       "      <td>8.589699</td>\n",
       "      <td>0.006275</td>\n",
       "      <td>1</td>\n",
       "      <td>1</td>\n",
       "      <td>hbo</td>\n",
       "      <td>True</td>\n",
       "      <td>S1_D1 hbo</td>\n",
       "    </tr>\n",
       "    <tr>\n",
       "      <th>...</th>\n",
       "      <td>...</td>\n",
       "      <td>...</td>\n",
       "      <td>...</td>\n",
       "      <td>...</td>\n",
       "      <td>...</td>\n",
       "      <td>...</td>\n",
       "      <td>...</td>\n",
       "      <td>...</td>\n",
       "      <td>...</td>\n",
       "      <td>...</td>\n",
       "      <td>...</td>\n",
       "      <td>...</td>\n",
       "    </tr>\n",
       "    <tr>\n",
       "      <th>251</th>\n",
       "      <td>drift_3</td>\n",
       "      <td>8.0</td>\n",
       "      <td>5.188664e-08</td>\n",
       "      <td>0.004628</td>\n",
       "      <td>0.002877</td>\n",
       "      <td>3.887119</td>\n",
       "      <td>0.011182</td>\n",
       "      <td>4</td>\n",
       "      <td>8</td>\n",
       "      <td>hbr</td>\n",
       "      <td>True</td>\n",
       "      <td>S4_D8 hbr</td>\n",
       "    </tr>\n",
       "    <tr>\n",
       "      <th>252</th>\n",
       "      <td>drift_4</td>\n",
       "      <td>8.0</td>\n",
       "      <td>5.188664e-08</td>\n",
       "      <td>0.001323</td>\n",
       "      <td>0.002656</td>\n",
       "      <td>4.818789</td>\n",
       "      <td>0.012799</td>\n",
       "      <td>4</td>\n",
       "      <td>8</td>\n",
       "      <td>hbr</td>\n",
       "      <td>True</td>\n",
       "      <td>S4_D8 hbr</td>\n",
       "    </tr>\n",
       "    <tr>\n",
       "      <th>253</th>\n",
       "      <td>isolate</td>\n",
       "      <td>8.0</td>\n",
       "      <td>5.188664e-08</td>\n",
       "      <td>0.282027</td>\n",
       "      <td>0.000203</td>\n",
       "      <td>-1.153433</td>\n",
       "      <td>-0.000234</td>\n",
       "      <td>4</td>\n",
       "      <td>8</td>\n",
       "      <td>hbr</td>\n",
       "      <td>False</td>\n",
       "      <td>S4_D8 hbr</td>\n",
       "    </tr>\n",
       "    <tr>\n",
       "      <th>254</th>\n",
       "      <td>off</td>\n",
       "      <td>8.0</td>\n",
       "      <td>5.188664e-08</td>\n",
       "      <td>0.713150</td>\n",
       "      <td>0.000122</td>\n",
       "      <td>-0.380961</td>\n",
       "      <td>-0.000046</td>\n",
       "      <td>4</td>\n",
       "      <td>8</td>\n",
       "      <td>hbr</td>\n",
       "      <td>False</td>\n",
       "      <td>S4_D8 hbr</td>\n",
       "    </tr>\n",
       "    <tr>\n",
       "      <th>255</th>\n",
       "      <td>on</td>\n",
       "      <td>8.0</td>\n",
       "      <td>5.188664e-08</td>\n",
       "      <td>0.764915</td>\n",
       "      <td>0.000120</td>\n",
       "      <td>-0.309410</td>\n",
       "      <td>-0.000037</td>\n",
       "      <td>4</td>\n",
       "      <td>8</td>\n",
       "      <td>hbr</td>\n",
       "      <td>False</td>\n",
       "      <td>S4_D8 hbr</td>\n",
       "    </tr>\n",
       "  </tbody>\n",
       "</table>\n",
       "<p>256 rows × 12 columns</p>\n",
       "</div>"
      ],
      "text/plain": [
       "variable Condition   df           mse   p_value        se         t     theta  \\\n",
       "0         constant  8.0  3.386880e-08  0.002130  0.000013  4.453332  0.000059   \n",
       "1          drift_1  8.0  3.386880e-08  0.359674  0.000884  0.971668  0.000859   \n",
       "2          drift_2  8.0  3.386880e-08  0.000013  0.000770  9.447649  0.007278   \n",
       "3          drift_3  8.0  3.386880e-08  0.000025  0.000785  8.648927  0.006793   \n",
       "4          drift_4  8.0  3.386880e-08  0.000026  0.000731  8.589699  0.006275   \n",
       "..             ...  ...           ...       ...       ...       ...       ...   \n",
       "251        drift_3  8.0  5.188664e-08  0.004628  0.002877  3.887119  0.011182   \n",
       "252        drift_4  8.0  5.188664e-08  0.001323  0.002656  4.818789  0.012799   \n",
       "253        isolate  8.0  5.188664e-08  0.282027  0.000203 -1.153433 -0.000234   \n",
       "254            off  8.0  5.188664e-08  0.713150  0.000122 -0.380961 -0.000046   \n",
       "255             on  8.0  5.188664e-08  0.764915  0.000120 -0.309410 -0.000037   \n",
       "\n",
       "variable Source Detector Chroma  Significant    ch_name  \n",
       "0             1        1    hbo         True  S1_D1 hbo  \n",
       "1             1        1    hbo        False  S1_D1 hbo  \n",
       "2             1        1    hbo         True  S1_D1 hbo  \n",
       "3             1        1    hbo         True  S1_D1 hbo  \n",
       "4             1        1    hbo         True  S1_D1 hbo  \n",
       "..          ...      ...    ...          ...        ...  \n",
       "251           4        8    hbr         True  S4_D8 hbr  \n",
       "252           4        8    hbr         True  S4_D8 hbr  \n",
       "253           4        8    hbr        False  S4_D8 hbr  \n",
       "254           4        8    hbr        False  S4_D8 hbr  \n",
       "255           4        8    hbr        False  S4_D8 hbr  \n",
       "\n",
       "[256 rows x 12 columns]"
      ]
     },
     "execution_count": 233,
     "metadata": {},
     "output_type": "execute_result"
    }
   ],
   "source": [
    "glm_est_df"
   ]
  },
  {
   "cell_type": "markdown",
   "id": "5b9fae25",
   "metadata": {},
   "source": [
    "256 rows comes from 32 channels * 8 predictors each"
   ]
  },
  {
   "cell_type": "code",
   "execution_count": 234,
   "id": "0db0cc83",
   "metadata": {},
   "outputs": [
    {
     "data": {
      "text/html": [
       "<div>\n",
       "<style scoped>\n",
       "    .dataframe tbody tr th:only-of-type {\n",
       "        vertical-align: middle;\n",
       "    }\n",
       "\n",
       "    .dataframe tbody tr th {\n",
       "        vertical-align: top;\n",
       "    }\n",
       "\n",
       "    .dataframe thead th {\n",
       "        text-align: right;\n",
       "    }\n",
       "</style>\n",
       "<table border=\"1\" class=\"dataframe\">\n",
       "  <thead>\n",
       "    <tr style=\"text-align: right;\">\n",
       "      <th>variable</th>\n",
       "      <th>Condition</th>\n",
       "      <th>df</th>\n",
       "      <th>mse</th>\n",
       "      <th>p_value</th>\n",
       "      <th>se</th>\n",
       "      <th>t</th>\n",
       "      <th>theta</th>\n",
       "      <th>Source</th>\n",
       "      <th>Detector</th>\n",
       "      <th>Chroma</th>\n",
       "      <th>Significant</th>\n",
       "      <th>ch_name</th>\n",
       "    </tr>\n",
       "  </thead>\n",
       "  <tbody>\n",
       "    <tr>\n",
       "      <th>5</th>\n",
       "      <td>isolate</td>\n",
       "      <td>8.0</td>\n",
       "      <td>3.386880e-08</td>\n",
       "      <td>0.064123</td>\n",
       "      <td>0.000055</td>\n",
       "      <td>-2.146512</td>\n",
       "      <td>-0.000119</td>\n",
       "      <td>1</td>\n",
       "      <td>1</td>\n",
       "      <td>hbo</td>\n",
       "      <td>False</td>\n",
       "      <td>S1_D1 hbo</td>\n",
       "    </tr>\n",
       "    <tr>\n",
       "      <th>21</th>\n",
       "      <td>isolate</td>\n",
       "      <td>8.0</td>\n",
       "      <td>7.556260e-09</td>\n",
       "      <td>0.884181</td>\n",
       "      <td>0.000212</td>\n",
       "      <td>-0.150388</td>\n",
       "      <td>-0.000032</td>\n",
       "      <td>1</td>\n",
       "      <td>2</td>\n",
       "      <td>hbo</td>\n",
       "      <td>False</td>\n",
       "      <td>S1_D2 hbo</td>\n",
       "    </tr>\n",
       "    <tr>\n",
       "      <th>37</th>\n",
       "      <td>isolate</td>\n",
       "      <td>8.0</td>\n",
       "      <td>4.600301e-09</td>\n",
       "      <td>0.808458</td>\n",
       "      <td>0.000089</td>\n",
       "      <td>-0.250575</td>\n",
       "      <td>-0.000022</td>\n",
       "      <td>1</td>\n",
       "      <td>3</td>\n",
       "      <td>hbo</td>\n",
       "      <td>False</td>\n",
       "      <td>S1_D3 hbo</td>\n",
       "    </tr>\n",
       "    <tr>\n",
       "      <th>53</th>\n",
       "      <td>isolate</td>\n",
       "      <td>8.0</td>\n",
       "      <td>6.910645e-09</td>\n",
       "      <td>0.891438</td>\n",
       "      <td>0.000028</td>\n",
       "      <td>-0.140893</td>\n",
       "      <td>-0.000004</td>\n",
       "      <td>1</td>\n",
       "      <td>4</td>\n",
       "      <td>hbo</td>\n",
       "      <td>False</td>\n",
       "      <td>S1_D4 hbo</td>\n",
       "    </tr>\n",
       "    <tr>\n",
       "      <th>69</th>\n",
       "      <td>isolate</td>\n",
       "      <td>8.0</td>\n",
       "      <td>1.140287e-09</td>\n",
       "      <td>0.003299</td>\n",
       "      <td>0.000082</td>\n",
       "      <td>4.129832</td>\n",
       "      <td>0.000340</td>\n",
       "      <td>2</td>\n",
       "      <td>1</td>\n",
       "      <td>hbo</td>\n",
       "      <td>True</td>\n",
       "      <td>S2_D1 hbo</td>\n",
       "    </tr>\n",
       "    <tr>\n",
       "      <th>85</th>\n",
       "      <td>isolate</td>\n",
       "      <td>8.0</td>\n",
       "      <td>2.786703e-08</td>\n",
       "      <td>0.402281</td>\n",
       "      <td>0.000041</td>\n",
       "      <td>-0.884392</td>\n",
       "      <td>-0.000036</td>\n",
       "      <td>2</td>\n",
       "      <td>2</td>\n",
       "      <td>hbo</td>\n",
       "      <td>False</td>\n",
       "      <td>S2_D2 hbo</td>\n",
       "    </tr>\n",
       "    <tr>\n",
       "      <th>101</th>\n",
       "      <td>isolate</td>\n",
       "      <td>8.0</td>\n",
       "      <td>7.569117e-09</td>\n",
       "      <td>0.046885</td>\n",
       "      <td>0.000114</td>\n",
       "      <td>-2.347215</td>\n",
       "      <td>-0.000268</td>\n",
       "      <td>2</td>\n",
       "      <td>3</td>\n",
       "      <td>hbo</td>\n",
       "      <td>True</td>\n",
       "      <td>S2_D3 hbo</td>\n",
       "    </tr>\n",
       "    <tr>\n",
       "      <th>117</th>\n",
       "      <td>isolate</td>\n",
       "      <td>8.0</td>\n",
       "      <td>2.803313e-08</td>\n",
       "      <td>0.050344</td>\n",
       "      <td>0.000065</td>\n",
       "      <td>-2.301608</td>\n",
       "      <td>-0.000149</td>\n",
       "      <td>2</td>\n",
       "      <td>4</td>\n",
       "      <td>hbo</td>\n",
       "      <td>False</td>\n",
       "      <td>S2_D4 hbo</td>\n",
       "    </tr>\n",
       "    <tr>\n",
       "      <th>133</th>\n",
       "      <td>isolate</td>\n",
       "      <td>8.0</td>\n",
       "      <td>2.222744e-08</td>\n",
       "      <td>0.184616</td>\n",
       "      <td>0.000080</td>\n",
       "      <td>-1.451807</td>\n",
       "      <td>-0.000117</td>\n",
       "      <td>3</td>\n",
       "      <td>5</td>\n",
       "      <td>hbo</td>\n",
       "      <td>False</td>\n",
       "      <td>S3_D5 hbo</td>\n",
       "    </tr>\n",
       "    <tr>\n",
       "      <th>149</th>\n",
       "      <td>isolate</td>\n",
       "      <td>8.0</td>\n",
       "      <td>6.430077e-08</td>\n",
       "      <td>0.211405</td>\n",
       "      <td>0.000170</td>\n",
       "      <td>-1.358386</td>\n",
       "      <td>-0.000231</td>\n",
       "      <td>3</td>\n",
       "      <td>6</td>\n",
       "      <td>hbo</td>\n",
       "      <td>False</td>\n",
       "      <td>S3_D6 hbo</td>\n",
       "    </tr>\n",
       "    <tr>\n",
       "      <th>165</th>\n",
       "      <td>isolate</td>\n",
       "      <td>8.0</td>\n",
       "      <td>2.573158e-08</td>\n",
       "      <td>0.526082</td>\n",
       "      <td>0.000211</td>\n",
       "      <td>-0.662814</td>\n",
       "      <td>-0.000140</td>\n",
       "      <td>3</td>\n",
       "      <td>7</td>\n",
       "      <td>hbo</td>\n",
       "      <td>False</td>\n",
       "      <td>S3_D7 hbo</td>\n",
       "    </tr>\n",
       "    <tr>\n",
       "      <th>181</th>\n",
       "      <td>isolate</td>\n",
       "      <td>8.0</td>\n",
       "      <td>4.429322e-10</td>\n",
       "      <td>0.297213</td>\n",
       "      <td>0.000051</td>\n",
       "      <td>-1.115022</td>\n",
       "      <td>-0.000057</td>\n",
       "      <td>3</td>\n",
       "      <td>8</td>\n",
       "      <td>hbo</td>\n",
       "      <td>False</td>\n",
       "      <td>S3_D8 hbo</td>\n",
       "    </tr>\n",
       "    <tr>\n",
       "      <th>197</th>\n",
       "      <td>isolate</td>\n",
       "      <td>8.0</td>\n",
       "      <td>1.820029e-08</td>\n",
       "      <td>0.176826</td>\n",
       "      <td>0.000120</td>\n",
       "      <td>1.481211</td>\n",
       "      <td>0.000178</td>\n",
       "      <td>4</td>\n",
       "      <td>5</td>\n",
       "      <td>hbo</td>\n",
       "      <td>False</td>\n",
       "      <td>S4_D5 hbo</td>\n",
       "    </tr>\n",
       "    <tr>\n",
       "      <th>213</th>\n",
       "      <td>isolate</td>\n",
       "      <td>8.0</td>\n",
       "      <td>9.392231e-09</td>\n",
       "      <td>0.078106</td>\n",
       "      <td>0.000236</td>\n",
       "      <td>2.019606</td>\n",
       "      <td>0.000477</td>\n",
       "      <td>4</td>\n",
       "      <td>6</td>\n",
       "      <td>hbo</td>\n",
       "      <td>False</td>\n",
       "      <td>S4_D6 hbo</td>\n",
       "    </tr>\n",
       "    <tr>\n",
       "      <th>229</th>\n",
       "      <td>isolate</td>\n",
       "      <td>8.0</td>\n",
       "      <td>2.422798e-08</td>\n",
       "      <td>0.141146</td>\n",
       "      <td>0.000205</td>\n",
       "      <td>1.632840</td>\n",
       "      <td>0.000334</td>\n",
       "      <td>4</td>\n",
       "      <td>7</td>\n",
       "      <td>hbo</td>\n",
       "      <td>False</td>\n",
       "      <td>S4_D7 hbo</td>\n",
       "    </tr>\n",
       "    <tr>\n",
       "      <th>245</th>\n",
       "      <td>isolate</td>\n",
       "      <td>8.0</td>\n",
       "      <td>4.533980e-08</td>\n",
       "      <td>0.063137</td>\n",
       "      <td>0.000115</td>\n",
       "      <td>2.156456</td>\n",
       "      <td>0.000248</td>\n",
       "      <td>4</td>\n",
       "      <td>8</td>\n",
       "      <td>hbo</td>\n",
       "      <td>False</td>\n",
       "      <td>S4_D8 hbo</td>\n",
       "    </tr>\n",
       "    <tr>\n",
       "      <th>13</th>\n",
       "      <td>isolate</td>\n",
       "      <td>8.0</td>\n",
       "      <td>1.084760e-08</td>\n",
       "      <td>0.346732</td>\n",
       "      <td>0.000093</td>\n",
       "      <td>-0.999696</td>\n",
       "      <td>-0.000093</td>\n",
       "      <td>1</td>\n",
       "      <td>1</td>\n",
       "      <td>hbr</td>\n",
       "      <td>False</td>\n",
       "      <td>S1_D1 hbr</td>\n",
       "    </tr>\n",
       "    <tr>\n",
       "      <th>29</th>\n",
       "      <td>isolate</td>\n",
       "      <td>8.0</td>\n",
       "      <td>1.698981e-08</td>\n",
       "      <td>0.609228</td>\n",
       "      <td>0.000171</td>\n",
       "      <td>-0.531925</td>\n",
       "      <td>-0.000091</td>\n",
       "      <td>1</td>\n",
       "      <td>2</td>\n",
       "      <td>hbr</td>\n",
       "      <td>False</td>\n",
       "      <td>S1_D2 hbr</td>\n",
       "    </tr>\n",
       "    <tr>\n",
       "      <th>45</th>\n",
       "      <td>isolate</td>\n",
       "      <td>8.0</td>\n",
       "      <td>1.144742e-08</td>\n",
       "      <td>0.698026</td>\n",
       "      <td>0.000141</td>\n",
       "      <td>-0.402261</td>\n",
       "      <td>-0.000057</td>\n",
       "      <td>1</td>\n",
       "      <td>3</td>\n",
       "      <td>hbr</td>\n",
       "      <td>False</td>\n",
       "      <td>S1_D3 hbr</td>\n",
       "    </tr>\n",
       "    <tr>\n",
       "      <th>61</th>\n",
       "      <td>isolate</td>\n",
       "      <td>8.0</td>\n",
       "      <td>1.178353e-08</td>\n",
       "      <td>0.397137</td>\n",
       "      <td>0.000073</td>\n",
       "      <td>-0.894561</td>\n",
       "      <td>-0.000065</td>\n",
       "      <td>1</td>\n",
       "      <td>4</td>\n",
       "      <td>hbr</td>\n",
       "      <td>False</td>\n",
       "      <td>S1_D4 hbr</td>\n",
       "    </tr>\n",
       "    <tr>\n",
       "      <th>77</th>\n",
       "      <td>isolate</td>\n",
       "      <td>8.0</td>\n",
       "      <td>3.751577e-09</td>\n",
       "      <td>0.793530</td>\n",
       "      <td>0.000149</td>\n",
       "      <td>0.270625</td>\n",
       "      <td>0.000040</td>\n",
       "      <td>2</td>\n",
       "      <td>1</td>\n",
       "      <td>hbr</td>\n",
       "      <td>False</td>\n",
       "      <td>S2_D1 hbr</td>\n",
       "    </tr>\n",
       "    <tr>\n",
       "      <th>93</th>\n",
       "      <td>isolate</td>\n",
       "      <td>8.0</td>\n",
       "      <td>2.085489e-08</td>\n",
       "      <td>0.546916</td>\n",
       "      <td>0.000129</td>\n",
       "      <td>-0.628952</td>\n",
       "      <td>-0.000081</td>\n",
       "      <td>2</td>\n",
       "      <td>2</td>\n",
       "      <td>hbr</td>\n",
       "      <td>False</td>\n",
       "      <td>S2_D2 hbr</td>\n",
       "    </tr>\n",
       "    <tr>\n",
       "      <th>109</th>\n",
       "      <td>isolate</td>\n",
       "      <td>8.0</td>\n",
       "      <td>6.991241e-09</td>\n",
       "      <td>0.842960</td>\n",
       "      <td>0.000110</td>\n",
       "      <td>0.204645</td>\n",
       "      <td>0.000022</td>\n",
       "      <td>2</td>\n",
       "      <td>3</td>\n",
       "      <td>hbr</td>\n",
       "      <td>False</td>\n",
       "      <td>S2_D3 hbr</td>\n",
       "    </tr>\n",
       "    <tr>\n",
       "      <th>125</th>\n",
       "      <td>isolate</td>\n",
       "      <td>8.0</td>\n",
       "      <td>2.016355e-08</td>\n",
       "      <td>0.567700</td>\n",
       "      <td>0.000126</td>\n",
       "      <td>-0.595923</td>\n",
       "      <td>-0.000075</td>\n",
       "      <td>2</td>\n",
       "      <td>4</td>\n",
       "      <td>hbr</td>\n",
       "      <td>False</td>\n",
       "      <td>S2_D4 hbr</td>\n",
       "    </tr>\n",
       "    <tr>\n",
       "      <th>141</th>\n",
       "      <td>isolate</td>\n",
       "      <td>8.0</td>\n",
       "      <td>2.666937e-08</td>\n",
       "      <td>0.276568</td>\n",
       "      <td>0.000110</td>\n",
       "      <td>-1.167651</td>\n",
       "      <td>-0.000128</td>\n",
       "      <td>3</td>\n",
       "      <td>5</td>\n",
       "      <td>hbr</td>\n",
       "      <td>False</td>\n",
       "      <td>S3_D5 hbr</td>\n",
       "    </tr>\n",
       "    <tr>\n",
       "      <th>157</th>\n",
       "      <td>isolate</td>\n",
       "      <td>8.0</td>\n",
       "      <td>2.185871e-08</td>\n",
       "      <td>0.203589</td>\n",
       "      <td>0.000067</td>\n",
       "      <td>-1.384520</td>\n",
       "      <td>-0.000092</td>\n",
       "      <td>3</td>\n",
       "      <td>6</td>\n",
       "      <td>hbr</td>\n",
       "      <td>False</td>\n",
       "      <td>S3_D6 hbr</td>\n",
       "    </tr>\n",
       "    <tr>\n",
       "      <th>173</th>\n",
       "      <td>isolate</td>\n",
       "      <td>8.0</td>\n",
       "      <td>4.063382e-09</td>\n",
       "      <td>0.097866</td>\n",
       "      <td>0.000155</td>\n",
       "      <td>1.873584</td>\n",
       "      <td>0.000291</td>\n",
       "      <td>3</td>\n",
       "      <td>7</td>\n",
       "      <td>hbr</td>\n",
       "      <td>False</td>\n",
       "      <td>S3_D7 hbr</td>\n",
       "    </tr>\n",
       "    <tr>\n",
       "      <th>189</th>\n",
       "      <td>isolate</td>\n",
       "      <td>8.0</td>\n",
       "      <td>6.513571e-10</td>\n",
       "      <td>0.001763</td>\n",
       "      <td>0.000062</td>\n",
       "      <td>4.596700</td>\n",
       "      <td>0.000286</td>\n",
       "      <td>3</td>\n",
       "      <td>8</td>\n",
       "      <td>hbr</td>\n",
       "      <td>True</td>\n",
       "      <td>S3_D8 hbr</td>\n",
       "    </tr>\n",
       "    <tr>\n",
       "      <th>205</th>\n",
       "      <td>isolate</td>\n",
       "      <td>8.0</td>\n",
       "      <td>4.499693e-08</td>\n",
       "      <td>0.714378</td>\n",
       "      <td>0.000279</td>\n",
       "      <td>-0.379240</td>\n",
       "      <td>-0.000106</td>\n",
       "      <td>4</td>\n",
       "      <td>5</td>\n",
       "      <td>hbr</td>\n",
       "      <td>False</td>\n",
       "      <td>S4_D5 hbr</td>\n",
       "    </tr>\n",
       "    <tr>\n",
       "      <th>221</th>\n",
       "      <td>isolate</td>\n",
       "      <td>8.0</td>\n",
       "      <td>1.984703e-08</td>\n",
       "      <td>0.716624</td>\n",
       "      <td>0.000343</td>\n",
       "      <td>-0.376095</td>\n",
       "      <td>-0.000129</td>\n",
       "      <td>4</td>\n",
       "      <td>6</td>\n",
       "      <td>hbr</td>\n",
       "      <td>False</td>\n",
       "      <td>S4_D6 hbr</td>\n",
       "    </tr>\n",
       "    <tr>\n",
       "      <th>237</th>\n",
       "      <td>isolate</td>\n",
       "      <td>8.0</td>\n",
       "      <td>2.572670e-08</td>\n",
       "      <td>0.469896</td>\n",
       "      <td>0.000391</td>\n",
       "      <td>-0.758517</td>\n",
       "      <td>-0.000297</td>\n",
       "      <td>4</td>\n",
       "      <td>7</td>\n",
       "      <td>hbr</td>\n",
       "      <td>False</td>\n",
       "      <td>S4_D7 hbr</td>\n",
       "    </tr>\n",
       "    <tr>\n",
       "      <th>253</th>\n",
       "      <td>isolate</td>\n",
       "      <td>8.0</td>\n",
       "      <td>5.188664e-08</td>\n",
       "      <td>0.282027</td>\n",
       "      <td>0.000203</td>\n",
       "      <td>-1.153433</td>\n",
       "      <td>-0.000234</td>\n",
       "      <td>4</td>\n",
       "      <td>8</td>\n",
       "      <td>hbr</td>\n",
       "      <td>False</td>\n",
       "      <td>S4_D8 hbr</td>\n",
       "    </tr>\n",
       "  </tbody>\n",
       "</table>\n",
       "</div>"
      ],
      "text/plain": [
       "variable Condition   df           mse   p_value        se         t     theta  \\\n",
       "5          isolate  8.0  3.386880e-08  0.064123  0.000055 -2.146512 -0.000119   \n",
       "21         isolate  8.0  7.556260e-09  0.884181  0.000212 -0.150388 -0.000032   \n",
       "37         isolate  8.0  4.600301e-09  0.808458  0.000089 -0.250575 -0.000022   \n",
       "53         isolate  8.0  6.910645e-09  0.891438  0.000028 -0.140893 -0.000004   \n",
       "69         isolate  8.0  1.140287e-09  0.003299  0.000082  4.129832  0.000340   \n",
       "85         isolate  8.0  2.786703e-08  0.402281  0.000041 -0.884392 -0.000036   \n",
       "101        isolate  8.0  7.569117e-09  0.046885  0.000114 -2.347215 -0.000268   \n",
       "117        isolate  8.0  2.803313e-08  0.050344  0.000065 -2.301608 -0.000149   \n",
       "133        isolate  8.0  2.222744e-08  0.184616  0.000080 -1.451807 -0.000117   \n",
       "149        isolate  8.0  6.430077e-08  0.211405  0.000170 -1.358386 -0.000231   \n",
       "165        isolate  8.0  2.573158e-08  0.526082  0.000211 -0.662814 -0.000140   \n",
       "181        isolate  8.0  4.429322e-10  0.297213  0.000051 -1.115022 -0.000057   \n",
       "197        isolate  8.0  1.820029e-08  0.176826  0.000120  1.481211  0.000178   \n",
       "213        isolate  8.0  9.392231e-09  0.078106  0.000236  2.019606  0.000477   \n",
       "229        isolate  8.0  2.422798e-08  0.141146  0.000205  1.632840  0.000334   \n",
       "245        isolate  8.0  4.533980e-08  0.063137  0.000115  2.156456  0.000248   \n",
       "13         isolate  8.0  1.084760e-08  0.346732  0.000093 -0.999696 -0.000093   \n",
       "29         isolate  8.0  1.698981e-08  0.609228  0.000171 -0.531925 -0.000091   \n",
       "45         isolate  8.0  1.144742e-08  0.698026  0.000141 -0.402261 -0.000057   \n",
       "61         isolate  8.0  1.178353e-08  0.397137  0.000073 -0.894561 -0.000065   \n",
       "77         isolate  8.0  3.751577e-09  0.793530  0.000149  0.270625  0.000040   \n",
       "93         isolate  8.0  2.085489e-08  0.546916  0.000129 -0.628952 -0.000081   \n",
       "109        isolate  8.0  6.991241e-09  0.842960  0.000110  0.204645  0.000022   \n",
       "125        isolate  8.0  2.016355e-08  0.567700  0.000126 -0.595923 -0.000075   \n",
       "141        isolate  8.0  2.666937e-08  0.276568  0.000110 -1.167651 -0.000128   \n",
       "157        isolate  8.0  2.185871e-08  0.203589  0.000067 -1.384520 -0.000092   \n",
       "173        isolate  8.0  4.063382e-09  0.097866  0.000155  1.873584  0.000291   \n",
       "189        isolate  8.0  6.513571e-10  0.001763  0.000062  4.596700  0.000286   \n",
       "205        isolate  8.0  4.499693e-08  0.714378  0.000279 -0.379240 -0.000106   \n",
       "221        isolate  8.0  1.984703e-08  0.716624  0.000343 -0.376095 -0.000129   \n",
       "237        isolate  8.0  2.572670e-08  0.469896  0.000391 -0.758517 -0.000297   \n",
       "253        isolate  8.0  5.188664e-08  0.282027  0.000203 -1.153433 -0.000234   \n",
       "\n",
       "variable Source Detector Chroma  Significant    ch_name  \n",
       "5             1        1    hbo        False  S1_D1 hbo  \n",
       "21            1        2    hbo        False  S1_D2 hbo  \n",
       "37            1        3    hbo        False  S1_D3 hbo  \n",
       "53            1        4    hbo        False  S1_D4 hbo  \n",
       "69            2        1    hbo         True  S2_D1 hbo  \n",
       "85            2        2    hbo        False  S2_D2 hbo  \n",
       "101           2        3    hbo         True  S2_D3 hbo  \n",
       "117           2        4    hbo        False  S2_D4 hbo  \n",
       "133           3        5    hbo        False  S3_D5 hbo  \n",
       "149           3        6    hbo        False  S3_D6 hbo  \n",
       "165           3        7    hbo        False  S3_D7 hbo  \n",
       "181           3        8    hbo        False  S3_D8 hbo  \n",
       "197           4        5    hbo        False  S4_D5 hbo  \n",
       "213           4        6    hbo        False  S4_D6 hbo  \n",
       "229           4        7    hbo        False  S4_D7 hbo  \n",
       "245           4        8    hbo        False  S4_D8 hbo  \n",
       "13            1        1    hbr        False  S1_D1 hbr  \n",
       "29            1        2    hbr        False  S1_D2 hbr  \n",
       "45            1        3    hbr        False  S1_D3 hbr  \n",
       "61            1        4    hbr        False  S1_D4 hbr  \n",
       "77            2        1    hbr        False  S2_D1 hbr  \n",
       "93            2        2    hbr        False  S2_D2 hbr  \n",
       "109           2        3    hbr        False  S2_D3 hbr  \n",
       "125           2        4    hbr        False  S2_D4 hbr  \n",
       "141           3        5    hbr        False  S3_D5 hbr  \n",
       "157           3        6    hbr        False  S3_D6 hbr  \n",
       "173           3        7    hbr        False  S3_D7 hbr  \n",
       "189           3        8    hbr         True  S3_D8 hbr  \n",
       "205           4        5    hbr        False  S4_D5 hbr  \n",
       "221           4        6    hbr        False  S4_D6 hbr  \n",
       "237           4        7    hbr        False  S4_D7 hbr  \n",
       "253           4        8    hbr        False  S4_D8 hbr  "
      ]
     },
     "execution_count": 234,
     "metadata": {},
     "output_type": "execute_result"
    }
   ],
   "source": [
    "isolated = glm_est_df[glm_est_df[\"Condition\"] == \"isolate\"]\n",
    "isolated"
   ]
  },
  {
   "cell_type": "code",
   "execution_count": 212,
   "id": "10c51276",
   "metadata": {},
   "outputs": [
    {
     "data": {
      "text/plain": [
       "array([-9.59555022e-05, -1.78191946e-05, -1.13963090e-05,  7.88926761e-06,\n",
       "        3.27964758e-04, -1.74885153e-05, -2.36228527e-04, -1.19281578e-04,\n",
       "       -8.82399535e-05, -1.93604397e-04, -1.19313099e-04, -5.23265757e-05,\n",
       "        1.62312968e-04,  4.58392358e-04,  3.07013188e-04,  2.16390584e-04,\n",
       "       -7.83397566e-05, -6.38221883e-05, -4.17411040e-05, -4.77362159e-05,\n",
       "        5.18487586e-05, -5.47228993e-05,  3.60807695e-05, -5.14802610e-05,\n",
       "       -8.59764893e-05, -4.83291982e-05,  2.98797453e-04,  2.75413848e-04,\n",
       "       -6.03439349e-05, -9.04195096e-05, -2.69213972e-04, -2.05007375e-04])"
      ]
     },
     "execution_count": 212,
     "metadata": {},
     "output_type": "execute_result"
    }
   ],
   "source": [
    "isolated[\"theta\"].values"
   ]
  },
  {
   "cell_type": "code",
   "execution_count": 209,
   "id": "9a2e396d",
   "metadata": {},
   "outputs": [
    {
     "data": {
      "text/plain": [
       "32"
      ]
     },
     "execution_count": 209,
     "metadata": {},
     "output_type": "execute_result"
    }
   ],
   "source": [
    "len(isolated)"
   ]
  },
  {
   "cell_type": "code",
   "execution_count": 205,
   "id": "a732fadd",
   "metadata": {},
   "outputs": [
    {
     "data": {
      "text/plain": [
       "256"
      ]
     },
     "execution_count": 205,
     "metadata": {},
     "output_type": "execute_result"
    }
   ],
   "source": [
    "32*8"
   ]
  },
  {
   "cell_type": "code",
   "execution_count": 204,
   "id": "2b752642",
   "metadata": {},
   "outputs": [
    {
     "data": {
      "text/plain": [
       "(4841, 8)"
      ]
     },
     "execution_count": 204,
     "metadata": {},
     "output_type": "execute_result"
    }
   ],
   "source": [
    "excluding_design_matrix.shape"
   ]
  },
  {
   "cell_type": "code",
   "execution_count": 194,
   "id": "98b6a13c",
   "metadata": {},
   "outputs": [
    {
     "data": {
      "text/plain": [
       "(2082, 33)"
      ]
     },
     "execution_count": 194,
     "metadata": {},
     "output_type": "execute_result"
    }
   ],
   "source": [
    "design_matrix.shape"
   ]
  },
  {
   "cell_type": "code",
   "execution_count": 196,
   "id": "12b5af80",
   "metadata": {},
   "outputs": [
    {
     "data": {
      "text/plain": [
       "4841"
      ]
     },
     "execution_count": 196,
     "metadata": {},
     "output_type": "execute_result"
    }
   ],
   "source": [
    "len(paul_raw_haemo.times)"
   ]
  },
  {
   "cell_type": "code",
   "execution_count": 198,
   "id": "0501daf9",
   "metadata": {},
   "outputs": [
    {
     "data": {
      "text/plain": [
       "4841"
      ]
     },
     "execution_count": 198,
     "metadata": {},
     "output_type": "execute_result"
    }
   ],
   "source": [
    "len(including_raw_haemo.times)"
   ]
  },
  {
   "cell_type": "code",
   "execution_count": 177,
   "id": "b73d2734",
   "metadata": {},
   "outputs": [
    {
     "data": {
      "text/plain": [
       "'on'"
      ]
     },
     "execution_count": 177,
     "metadata": {},
     "output_type": "execute_result"
    }
   ],
   "source": [
    "including_design_matrix.columns[0]"
   ]
  },
  {
   "cell_type": "code",
   "execution_count": 171,
   "id": "cc16674b",
   "metadata": {},
   "outputs": [
    {
     "data": {
      "text/plain": [
       "<Annotations | 4 segments: off (1), on (3)>"
      ]
     },
     "execution_count": 171,
     "metadata": {},
     "output_type": "execute_result"
    }
   ],
   "source": [
    "i = 3\n",
    "annotations[:i] + annotations[i+1:]"
   ]
  },
  {
   "cell_type": "code",
   "execution_count": 199,
   "id": "49f00b53",
   "metadata": {},
   "outputs": [
    {
     "data": {
      "text/plain": [
       "array([0.000e+00, 1.000e-01, 2.000e-01, ..., 4.838e+02, 4.839e+02,\n",
       "       4.840e+02])"
      ]
     },
     "execution_count": 199,
     "metadata": {},
     "output_type": "execute_result"
    }
   ],
   "source": [
    "test.times"
   ]
  },
  {
   "cell_type": "code",
   "execution_count": 201,
   "id": "32bb22f4",
   "metadata": {},
   "outputs": [
    {
     "data": {
      "text/plain": [
       "2082"
      ]
     },
     "execution_count": 201,
     "metadata": {},
     "output_type": "execute_result"
    }
   ],
   "source": [
    "len(raw_intensity.times)"
   ]
  },
  {
   "cell_type": "code",
   "execution_count": null,
   "id": "30fbd55d",
   "metadata": {},
   "outputs": [],
   "source": []
  }
 ],
 "metadata": {
  "kernelspec": {
   "display_name": "Python 3 (ipykernel)",
   "language": "python",
   "name": "python3"
  },
  "language_info": {
   "codemirror_mode": {
    "name": "ipython",
    "version": 3
   },
   "file_extension": ".py",
   "mimetype": "text/x-python",
   "name": "python",
   "nbconvert_exporter": "python",
   "pygments_lexer": "ipython3",
   "version": "3.8.11"
  }
 },
 "nbformat": 4,
 "nbformat_minor": 5
}
